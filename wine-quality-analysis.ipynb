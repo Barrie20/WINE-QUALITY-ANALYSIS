{
 "cells": [
  {
   "cell_type": "markdown",
   "id": "d7d72f82",
   "metadata": {
    "papermill": {
     "duration": 0.017828,
     "end_time": "2023-02-04T12:17:38.156971",
     "exception": false,
     "start_time": "2023-02-04T12:17:38.139143",
     "status": "completed"
    },
    "tags": []
   },
   "source": [
    "***DATASET DESCRIPTION***\n",
    "\n",
    "*The dataset for this competition (both train and test) was generated from a deep learning model trained on the Wine Quality dataset. Feature distributions are close to, but not exactly the same, as the original.*"
   ]
  },
  {
   "cell_type": "markdown",
   "id": "535796f1",
   "metadata": {
    "papermill": {
     "duration": 0.01481,
     "end_time": "2023-02-04T12:17:38.190080",
     "exception": false,
     "start_time": "2023-02-04T12:17:38.175270",
     "status": "completed"
    },
    "tags": []
   },
   "source": [
    "***ATTRIBUTE DESCRIPTION***\n",
    "\n",
    "**fixed acidity** : *Primary fixed acids found in wine are tartaric, succinic, citric, and malic.*\n",
    "\n",
    "**volatile acidity** : *Gaseous acids present in wine.*\n",
    "\n",
    "**citric acid** : *It is weak organic acid, found in citrus fruits naturally.*\n",
    "\n",
    "**residual sugar** : *Amount of sugar left after fermentation.*\n",
    "\n",
    "**chlorides** : *Amount of salt present in wine.*\n",
    "\n",
    "**free sulfur dioxide** : *So2 is used for prevention of wine by oxidation and microbial spoilage.*\n",
    "\n",
    "**total sulfur dioxide** : *Total So2 in wine*\n",
    "\n",
    "**density** : *Describes the density of the wine.*\n",
    "\n",
    "**pH** : *pH is used for checking acidity*\n",
    "\n",
    "**sulphates** : *Added sulfites preserve freshness and protect wine from oxidation, and bacteria.*\n",
    "\n",
    "**alcohol** : *Percent of alcohol present in wine.*"
   ]
  },
  {
   "cell_type": "markdown",
   "id": "612b7e05",
   "metadata": {
    "papermill": {
     "duration": 0.016409,
     "end_time": "2023-02-04T12:17:38.222745",
     "exception": false,
     "start_time": "2023-02-04T12:17:38.206336",
     "status": "completed"
    },
    "tags": []
   },
   "source": [
    "***Imports***"
   ]
  },
  {
   "cell_type": "code",
   "execution_count": 1,
   "id": "b2675aff",
   "metadata": {
    "execution": {
     "iopub.execute_input": "2023-02-04T12:17:38.256130Z",
     "iopub.status.busy": "2023-02-04T12:17:38.255633Z",
     "iopub.status.idle": "2023-02-04T12:17:39.338043Z",
     "shell.execute_reply": "2023-02-04T12:17:39.337000Z"
    },
    "papermill": {
     "duration": 1.103052,
     "end_time": "2023-02-04T12:17:39.341004",
     "exception": false,
     "start_time": "2023-02-04T12:17:38.237952",
     "status": "completed"
    },
    "tags": []
   },
   "outputs": [],
   "source": [
    "import numpy as np\n",
    "import pandas as pd\n",
    "import matplotlib.pyplot as plt\n",
    "import seaborn as sns\n",
    "%matplotlib inline"
   ]
  },
  {
   "cell_type": "markdown",
   "id": "661561cb",
   "metadata": {
    "papermill": {
     "duration": 0.015507,
     "end_time": "2023-02-04T12:17:39.371940",
     "exception": false,
     "start_time": "2023-02-04T12:17:39.356433",
     "status": "completed"
    },
    "tags": []
   },
   "source": [
    "***EDA - EXPLORATORY DATA ANALYSIS***"
   ]
  },
  {
   "cell_type": "markdown",
   "id": "64b5dae0",
   "metadata": {
    "papermill": {
     "duration": 0.01591,
     "end_time": "2023-02-04T12:17:39.403861",
     "exception": false,
     "start_time": "2023-02-04T12:17:39.387951",
     "status": "completed"
    },
    "tags": []
   },
   "source": [
    "***Data Collection***"
   ]
  },
  {
   "cell_type": "code",
   "execution_count": 2,
   "id": "c236e1e6",
   "metadata": {
    "execution": {
     "iopub.execute_input": "2023-02-04T12:17:39.438236Z",
     "iopub.status.busy": "2023-02-04T12:17:39.437284Z",
     "iopub.status.idle": "2023-02-04T12:17:39.470511Z",
     "shell.execute_reply": "2023-02-04T12:17:39.469598Z"
    },
    "papermill": {
     "duration": 0.053249,
     "end_time": "2023-02-04T12:17:39.473012",
     "exception": false,
     "start_time": "2023-02-04T12:17:39.419763",
     "status": "completed"
    },
    "tags": []
   },
   "outputs": [],
   "source": [
    "# Reading the input file\n",
    "df_train = pd.read_csv('/kaggle/input/playground-series-s3e5/train.csv')\n",
    "df_test = pd.read_csv('/kaggle/input/playground-series-s3e5/test.csv')"
   ]
  },
  {
   "cell_type": "markdown",
   "id": "3450b70d",
   "metadata": {
    "papermill": {
     "duration": 0.016797,
     "end_time": "2023-02-04T12:17:39.505129",
     "exception": false,
     "start_time": "2023-02-04T12:17:39.488332",
     "status": "completed"
    },
    "tags": []
   },
   "source": [
    "***Analyzing the Data***"
   ]
  },
  {
   "cell_type": "code",
   "execution_count": 3,
   "id": "87ebb637",
   "metadata": {
    "execution": {
     "iopub.execute_input": "2023-02-04T12:17:39.538040Z",
     "iopub.status.busy": "2023-02-04T12:17:39.537435Z",
     "iopub.status.idle": "2023-02-04T12:17:39.566346Z",
     "shell.execute_reply": "2023-02-04T12:17:39.565385Z"
    },
    "papermill": {
     "duration": 0.049522,
     "end_time": "2023-02-04T12:17:39.570077",
     "exception": false,
     "start_time": "2023-02-04T12:17:39.520555",
     "status": "completed"
    },
    "tags": []
   },
   "outputs": [
    {
     "data": {
      "text/html": [
       "<div>\n",
       "<style scoped>\n",
       "    .dataframe tbody tr th:only-of-type {\n",
       "        vertical-align: middle;\n",
       "    }\n",
       "\n",
       "    .dataframe tbody tr th {\n",
       "        vertical-align: top;\n",
       "    }\n",
       "\n",
       "    .dataframe thead th {\n",
       "        text-align: right;\n",
       "    }\n",
       "</style>\n",
       "<table border=\"1\" class=\"dataframe\">\n",
       "  <thead>\n",
       "    <tr style=\"text-align: right;\">\n",
       "      <th></th>\n",
       "      <th>Id</th>\n",
       "      <th>fixed acidity</th>\n",
       "      <th>volatile acidity</th>\n",
       "      <th>citric acid</th>\n",
       "      <th>residual sugar</th>\n",
       "      <th>chlorides</th>\n",
       "      <th>free sulfur dioxide</th>\n",
       "      <th>total sulfur dioxide</th>\n",
       "      <th>density</th>\n",
       "      <th>pH</th>\n",
       "      <th>sulphates</th>\n",
       "      <th>alcohol</th>\n",
       "      <th>quality</th>\n",
       "    </tr>\n",
       "  </thead>\n",
       "  <tbody>\n",
       "    <tr>\n",
       "      <th>0</th>\n",
       "      <td>0</td>\n",
       "      <td>8.0</td>\n",
       "      <td>0.50</td>\n",
       "      <td>0.39</td>\n",
       "      <td>2.2</td>\n",
       "      <td>0.073</td>\n",
       "      <td>30.0</td>\n",
       "      <td>39.0</td>\n",
       "      <td>0.99572</td>\n",
       "      <td>3.33</td>\n",
       "      <td>0.77</td>\n",
       "      <td>12.1</td>\n",
       "      <td>6</td>\n",
       "    </tr>\n",
       "    <tr>\n",
       "      <th>1</th>\n",
       "      <td>1</td>\n",
       "      <td>9.3</td>\n",
       "      <td>0.30</td>\n",
       "      <td>0.73</td>\n",
       "      <td>2.3</td>\n",
       "      <td>0.092</td>\n",
       "      <td>30.0</td>\n",
       "      <td>67.0</td>\n",
       "      <td>0.99854</td>\n",
       "      <td>3.32</td>\n",
       "      <td>0.67</td>\n",
       "      <td>12.8</td>\n",
       "      <td>6</td>\n",
       "    </tr>\n",
       "    <tr>\n",
       "      <th>2</th>\n",
       "      <td>2</td>\n",
       "      <td>7.1</td>\n",
       "      <td>0.51</td>\n",
       "      <td>0.03</td>\n",
       "      <td>2.1</td>\n",
       "      <td>0.059</td>\n",
       "      <td>3.0</td>\n",
       "      <td>12.0</td>\n",
       "      <td>0.99660</td>\n",
       "      <td>3.52</td>\n",
       "      <td>0.73</td>\n",
       "      <td>11.3</td>\n",
       "      <td>7</td>\n",
       "    </tr>\n",
       "    <tr>\n",
       "      <th>3</th>\n",
       "      <td>3</td>\n",
       "      <td>8.1</td>\n",
       "      <td>0.87</td>\n",
       "      <td>0.22</td>\n",
       "      <td>2.6</td>\n",
       "      <td>0.084</td>\n",
       "      <td>11.0</td>\n",
       "      <td>65.0</td>\n",
       "      <td>0.99730</td>\n",
       "      <td>3.20</td>\n",
       "      <td>0.53</td>\n",
       "      <td>9.8</td>\n",
       "      <td>5</td>\n",
       "    </tr>\n",
       "    <tr>\n",
       "      <th>4</th>\n",
       "      <td>4</td>\n",
       "      <td>8.5</td>\n",
       "      <td>0.36</td>\n",
       "      <td>0.30</td>\n",
       "      <td>2.3</td>\n",
       "      <td>0.079</td>\n",
       "      <td>10.0</td>\n",
       "      <td>45.0</td>\n",
       "      <td>0.99444</td>\n",
       "      <td>3.20</td>\n",
       "      <td>1.36</td>\n",
       "      <td>9.5</td>\n",
       "      <td>6</td>\n",
       "    </tr>\n",
       "  </tbody>\n",
       "</table>\n",
       "</div>"
      ],
      "text/plain": [
       "   Id  fixed acidity  volatile acidity  citric acid  residual sugar  \\\n",
       "0   0            8.0              0.50         0.39             2.2   \n",
       "1   1            9.3              0.30         0.73             2.3   \n",
       "2   2            7.1              0.51         0.03             2.1   \n",
       "3   3            8.1              0.87         0.22             2.6   \n",
       "4   4            8.5              0.36         0.30             2.3   \n",
       "\n",
       "   chlorides  free sulfur dioxide  total sulfur dioxide  density    pH  \\\n",
       "0      0.073                 30.0                  39.0  0.99572  3.33   \n",
       "1      0.092                 30.0                  67.0  0.99854  3.32   \n",
       "2      0.059                  3.0                  12.0  0.99660  3.52   \n",
       "3      0.084                 11.0                  65.0  0.99730  3.20   \n",
       "4      0.079                 10.0                  45.0  0.99444  3.20   \n",
       "\n",
       "   sulphates  alcohol  quality  \n",
       "0       0.77     12.1        6  \n",
       "1       0.67     12.8        6  \n",
       "2       0.73     11.3        7  \n",
       "3       0.53      9.8        5  \n",
       "4       1.36      9.5        6  "
      ]
     },
     "execution_count": 3,
     "metadata": {},
     "output_type": "execute_result"
    }
   ],
   "source": [
    "df_train.head()   # displays the first five rows of the dataframe"
   ]
  },
  {
   "cell_type": "code",
   "execution_count": 4,
   "id": "5337f74b",
   "metadata": {
    "execution": {
     "iopub.execute_input": "2023-02-04T12:17:39.605080Z",
     "iopub.status.busy": "2023-02-04T12:17:39.603844Z",
     "iopub.status.idle": "2023-02-04T12:17:39.626500Z",
     "shell.execute_reply": "2023-02-04T12:17:39.624918Z"
    },
    "papermill": {
     "duration": 0.043406,
     "end_time": "2023-02-04T12:17:39.629374",
     "exception": false,
     "start_time": "2023-02-04T12:17:39.585968",
     "status": "completed"
    },
    "tags": []
   },
   "outputs": [
    {
     "data": {
      "text/html": [
       "<div>\n",
       "<style scoped>\n",
       "    .dataframe tbody tr th:only-of-type {\n",
       "        vertical-align: middle;\n",
       "    }\n",
       "\n",
       "    .dataframe tbody tr th {\n",
       "        vertical-align: top;\n",
       "    }\n",
       "\n",
       "    .dataframe thead th {\n",
       "        text-align: right;\n",
       "    }\n",
       "</style>\n",
       "<table border=\"1\" class=\"dataframe\">\n",
       "  <thead>\n",
       "    <tr style=\"text-align: right;\">\n",
       "      <th></th>\n",
       "      <th>Id</th>\n",
       "      <th>fixed acidity</th>\n",
       "      <th>volatile acidity</th>\n",
       "      <th>citric acid</th>\n",
       "      <th>residual sugar</th>\n",
       "      <th>chlorides</th>\n",
       "      <th>free sulfur dioxide</th>\n",
       "      <th>total sulfur dioxide</th>\n",
       "      <th>density</th>\n",
       "      <th>pH</th>\n",
       "      <th>sulphates</th>\n",
       "      <th>alcohol</th>\n",
       "    </tr>\n",
       "  </thead>\n",
       "  <tbody>\n",
       "    <tr>\n",
       "      <th>0</th>\n",
       "      <td>2056</td>\n",
       "      <td>7.2</td>\n",
       "      <td>0.510</td>\n",
       "      <td>0.01</td>\n",
       "      <td>2.0</td>\n",
       "      <td>0.077</td>\n",
       "      <td>31.0</td>\n",
       "      <td>54.0</td>\n",
       "      <td>0.99748</td>\n",
       "      <td>3.39</td>\n",
       "      <td>0.59</td>\n",
       "      <td>9.8</td>\n",
       "    </tr>\n",
       "    <tr>\n",
       "      <th>1</th>\n",
       "      <td>2057</td>\n",
       "      <td>7.2</td>\n",
       "      <td>0.755</td>\n",
       "      <td>0.15</td>\n",
       "      <td>2.0</td>\n",
       "      <td>0.102</td>\n",
       "      <td>14.0</td>\n",
       "      <td>35.0</td>\n",
       "      <td>0.99586</td>\n",
       "      <td>3.33</td>\n",
       "      <td>0.68</td>\n",
       "      <td>10.0</td>\n",
       "    </tr>\n",
       "    <tr>\n",
       "      <th>2</th>\n",
       "      <td>2058</td>\n",
       "      <td>8.4</td>\n",
       "      <td>0.460</td>\n",
       "      <td>0.40</td>\n",
       "      <td>2.0</td>\n",
       "      <td>0.065</td>\n",
       "      <td>21.0</td>\n",
       "      <td>50.0</td>\n",
       "      <td>0.99774</td>\n",
       "      <td>3.08</td>\n",
       "      <td>0.65</td>\n",
       "      <td>9.5</td>\n",
       "    </tr>\n",
       "    <tr>\n",
       "      <th>3</th>\n",
       "      <td>2059</td>\n",
       "      <td>8.0</td>\n",
       "      <td>0.470</td>\n",
       "      <td>0.40</td>\n",
       "      <td>1.8</td>\n",
       "      <td>0.056</td>\n",
       "      <td>14.0</td>\n",
       "      <td>25.0</td>\n",
       "      <td>0.99480</td>\n",
       "      <td>3.30</td>\n",
       "      <td>0.65</td>\n",
       "      <td>11.7</td>\n",
       "    </tr>\n",
       "    <tr>\n",
       "      <th>4</th>\n",
       "      <td>2060</td>\n",
       "      <td>6.5</td>\n",
       "      <td>0.340</td>\n",
       "      <td>0.32</td>\n",
       "      <td>2.1</td>\n",
       "      <td>0.044</td>\n",
       "      <td>8.0</td>\n",
       "      <td>94.0</td>\n",
       "      <td>0.99356</td>\n",
       "      <td>3.23</td>\n",
       "      <td>0.48</td>\n",
       "      <td>12.8</td>\n",
       "    </tr>\n",
       "  </tbody>\n",
       "</table>\n",
       "</div>"
      ],
      "text/plain": [
       "     Id  fixed acidity  volatile acidity  citric acid  residual sugar  \\\n",
       "0  2056            7.2             0.510         0.01             2.0   \n",
       "1  2057            7.2             0.755         0.15             2.0   \n",
       "2  2058            8.4             0.460         0.40             2.0   \n",
       "3  2059            8.0             0.470         0.40             1.8   \n",
       "4  2060            6.5             0.340         0.32             2.1   \n",
       "\n",
       "   chlorides  free sulfur dioxide  total sulfur dioxide  density    pH  \\\n",
       "0      0.077                 31.0                  54.0  0.99748  3.39   \n",
       "1      0.102                 14.0                  35.0  0.99586  3.33   \n",
       "2      0.065                 21.0                  50.0  0.99774  3.08   \n",
       "3      0.056                 14.0                  25.0  0.99480  3.30   \n",
       "4      0.044                  8.0                  94.0  0.99356  3.23   \n",
       "\n",
       "   sulphates  alcohol  \n",
       "0       0.59      9.8  \n",
       "1       0.68     10.0  \n",
       "2       0.65      9.5  \n",
       "3       0.65     11.7  \n",
       "4       0.48     12.8  "
      ]
     },
     "execution_count": 4,
     "metadata": {},
     "output_type": "execute_result"
    }
   ],
   "source": [
    "df_test.head()   # displays the first five rows of the dataframe"
   ]
  },
  {
   "cell_type": "code",
   "execution_count": 5,
   "id": "ef46c575",
   "metadata": {
    "execution": {
     "iopub.execute_input": "2023-02-04T12:17:39.664019Z",
     "iopub.status.busy": "2023-02-04T12:17:39.663575Z",
     "iopub.status.idle": "2023-02-04T12:17:39.670211Z",
     "shell.execute_reply": "2023-02-04T12:17:39.669329Z"
    },
    "papermill": {
     "duration": 0.026931,
     "end_time": "2023-02-04T12:17:39.672316",
     "exception": false,
     "start_time": "2023-02-04T12:17:39.645385",
     "status": "completed"
    },
    "tags": []
   },
   "outputs": [
    {
     "data": {
      "text/plain": [
       "(2056, 13)"
      ]
     },
     "execution_count": 5,
     "metadata": {},
     "output_type": "execute_result"
    }
   ],
   "source": [
    "df_train.shape    # returns a tuple of array dimension that specifies the number of rows and columns"
   ]
  },
  {
   "cell_type": "code",
   "execution_count": 6,
   "id": "630e513b",
   "metadata": {
    "execution": {
     "iopub.execute_input": "2023-02-04T12:17:39.706991Z",
     "iopub.status.busy": "2023-02-04T12:17:39.706347Z",
     "iopub.status.idle": "2023-02-04T12:17:39.713666Z",
     "shell.execute_reply": "2023-02-04T12:17:39.712398Z"
    },
    "papermill": {
     "duration": 0.027601,
     "end_time": "2023-02-04T12:17:39.716307",
     "exception": false,
     "start_time": "2023-02-04T12:17:39.688706",
     "status": "completed"
    },
    "tags": []
   },
   "outputs": [
    {
     "data": {
      "text/plain": [
       "(1372, 12)"
      ]
     },
     "execution_count": 6,
     "metadata": {},
     "output_type": "execute_result"
    }
   ],
   "source": [
    "df_test.shape    # returns a tuple of array dimension that specifies the number of rows and columns"
   ]
  },
  {
   "cell_type": "code",
   "execution_count": 7,
   "id": "1d1892da",
   "metadata": {
    "execution": {
     "iopub.execute_input": "2023-02-04T12:17:39.750871Z",
     "iopub.status.busy": "2023-02-04T12:17:39.750475Z",
     "iopub.status.idle": "2023-02-04T12:17:39.777003Z",
     "shell.execute_reply": "2023-02-04T12:17:39.774907Z"
    },
    "papermill": {
     "duration": 0.04715,
     "end_time": "2023-02-04T12:17:39.779622",
     "exception": false,
     "start_time": "2023-02-04T12:17:39.732472",
     "status": "completed"
    },
    "tags": []
   },
   "outputs": [
    {
     "name": "stdout",
     "output_type": "stream",
     "text": [
      "<class 'pandas.core.frame.DataFrame'>\n",
      "RangeIndex: 2056 entries, 0 to 2055\n",
      "Data columns (total 13 columns):\n",
      " #   Column                Non-Null Count  Dtype  \n",
      "---  ------                --------------  -----  \n",
      " 0   Id                    2056 non-null   int64  \n",
      " 1   fixed acidity         2056 non-null   float64\n",
      " 2   volatile acidity      2056 non-null   float64\n",
      " 3   citric acid           2056 non-null   float64\n",
      " 4   residual sugar        2056 non-null   float64\n",
      " 5   chlorides             2056 non-null   float64\n",
      " 6   free sulfur dioxide   2056 non-null   float64\n",
      " 7   total sulfur dioxide  2056 non-null   float64\n",
      " 8   density               2056 non-null   float64\n",
      " 9   pH                    2056 non-null   float64\n",
      " 10  sulphates             2056 non-null   float64\n",
      " 11  alcohol               2056 non-null   float64\n",
      " 12  quality               2056 non-null   int64  \n",
      "dtypes: float64(11), int64(2)\n",
      "memory usage: 208.9 KB\n"
     ]
    }
   ],
   "source": [
    "df_train.info()   # prints the information about the dataframe"
   ]
  },
  {
   "cell_type": "code",
   "execution_count": 8,
   "id": "bd92c264",
   "metadata": {
    "execution": {
     "iopub.execute_input": "2023-02-04T12:17:39.816849Z",
     "iopub.status.busy": "2023-02-04T12:17:39.815577Z",
     "iopub.status.idle": "2023-02-04T12:17:39.829734Z",
     "shell.execute_reply": "2023-02-04T12:17:39.828080Z"
    },
    "papermill": {
     "duration": 0.03448,
     "end_time": "2023-02-04T12:17:39.832414",
     "exception": false,
     "start_time": "2023-02-04T12:17:39.797934",
     "status": "completed"
    },
    "tags": []
   },
   "outputs": [
    {
     "name": "stdout",
     "output_type": "stream",
     "text": [
      "<class 'pandas.core.frame.DataFrame'>\n",
      "RangeIndex: 1372 entries, 0 to 1371\n",
      "Data columns (total 12 columns):\n",
      " #   Column                Non-Null Count  Dtype  \n",
      "---  ------                --------------  -----  \n",
      " 0   Id                    1372 non-null   int64  \n",
      " 1   fixed acidity         1372 non-null   float64\n",
      " 2   volatile acidity      1372 non-null   float64\n",
      " 3   citric acid           1372 non-null   float64\n",
      " 4   residual sugar        1372 non-null   float64\n",
      " 5   chlorides             1372 non-null   float64\n",
      " 6   free sulfur dioxide   1372 non-null   float64\n",
      " 7   total sulfur dioxide  1372 non-null   float64\n",
      " 8   density               1372 non-null   float64\n",
      " 9   pH                    1372 non-null   float64\n",
      " 10  sulphates             1372 non-null   float64\n",
      " 11  alcohol               1372 non-null   float64\n",
      "dtypes: float64(11), int64(1)\n",
      "memory usage: 128.8 KB\n"
     ]
    }
   ],
   "source": [
    "df_test.info()   # prints the information about the dataframe"
   ]
  },
  {
   "cell_type": "markdown",
   "id": "963c19c2",
   "metadata": {
    "papermill": {
     "duration": 0.016204,
     "end_time": "2023-02-04T12:17:39.864827",
     "exception": false,
     "start_time": "2023-02-04T12:17:39.848623",
     "status": "completed"
    },
    "tags": []
   },
   "source": [
    "***Check for missing values and handle them.***"
   ]
  },
  {
   "cell_type": "code",
   "execution_count": 9,
   "id": "79036370",
   "metadata": {
    "execution": {
     "iopub.execute_input": "2023-02-04T12:17:39.901414Z",
     "iopub.status.busy": "2023-02-04T12:17:39.900706Z",
     "iopub.status.idle": "2023-02-04T12:17:39.911633Z",
     "shell.execute_reply": "2023-02-04T12:17:39.910139Z"
    },
    "papermill": {
     "duration": 0.033155,
     "end_time": "2023-02-04T12:17:39.914415",
     "exception": false,
     "start_time": "2023-02-04T12:17:39.881260",
     "status": "completed"
    },
    "tags": []
   },
   "outputs": [
    {
     "data": {
      "text/plain": [
       "Id                      0\n",
       "fixed acidity           0\n",
       "volatile acidity        0\n",
       "citric acid             0\n",
       "residual sugar          0\n",
       "chlorides               0\n",
       "free sulfur dioxide     0\n",
       "total sulfur dioxide    0\n",
       "density                 0\n",
       "pH                      0\n",
       "sulphates               0\n",
       "alcohol                 0\n",
       "quality                 0\n",
       "dtype: int64"
      ]
     },
     "execution_count": 9,
     "metadata": {},
     "output_type": "execute_result"
    }
   ],
   "source": [
    "df_train.isnull().sum()"
   ]
  },
  {
   "cell_type": "code",
   "execution_count": 10,
   "id": "6eafecf0",
   "metadata": {
    "execution": {
     "iopub.execute_input": "2023-02-04T12:17:39.950843Z",
     "iopub.status.busy": "2023-02-04T12:17:39.950433Z",
     "iopub.status.idle": "2023-02-04T12:17:39.960738Z",
     "shell.execute_reply": "2023-02-04T12:17:39.959574Z"
    },
    "papermill": {
     "duration": 0.031372,
     "end_time": "2023-02-04T12:17:39.963526",
     "exception": false,
     "start_time": "2023-02-04T12:17:39.932154",
     "status": "completed"
    },
    "tags": []
   },
   "outputs": [
    {
     "data": {
      "text/plain": [
       "Id                      0\n",
       "fixed acidity           0\n",
       "volatile acidity        0\n",
       "citric acid             0\n",
       "residual sugar          0\n",
       "chlorides               0\n",
       "free sulfur dioxide     0\n",
       "total sulfur dioxide    0\n",
       "density                 0\n",
       "pH                      0\n",
       "sulphates               0\n",
       "alcohol                 0\n",
       "dtype: int64"
      ]
     },
     "execution_count": 10,
     "metadata": {},
     "output_type": "execute_result"
    }
   ],
   "source": [
    "df_test.isna().sum()"
   ]
  },
  {
   "cell_type": "markdown",
   "id": "898f30ad",
   "metadata": {
    "papermill": {
     "duration": 0.016115,
     "end_time": "2023-02-04T12:17:39.997010",
     "exception": false,
     "start_time": "2023-02-04T12:17:39.980895",
     "status": "completed"
    },
    "tags": []
   },
   "source": [
    "***Check for duplicate values***"
   ]
  },
  {
   "cell_type": "code",
   "execution_count": 11,
   "id": "884c4200",
   "metadata": {
    "execution": {
     "iopub.execute_input": "2023-02-04T12:17:40.034047Z",
     "iopub.status.busy": "2023-02-04T12:17:40.033638Z",
     "iopub.status.idle": "2023-02-04T12:17:40.045653Z",
     "shell.execute_reply": "2023-02-04T12:17:40.044417Z"
    },
    "papermill": {
     "duration": 0.033687,
     "end_time": "2023-02-04T12:17:40.048615",
     "exception": false,
     "start_time": "2023-02-04T12:17:40.014928",
     "status": "completed"
    },
    "tags": []
   },
   "outputs": [
    {
     "data": {
      "text/plain": [
       "False"
      ]
     },
     "execution_count": 11,
     "metadata": {},
     "output_type": "execute_result"
    }
   ],
   "source": [
    "df_train.duplicated().any()"
   ]
  },
  {
   "cell_type": "code",
   "execution_count": 12,
   "id": "913dd988",
   "metadata": {
    "execution": {
     "iopub.execute_input": "2023-02-04T12:17:40.084042Z",
     "iopub.status.busy": "2023-02-04T12:17:40.083597Z",
     "iopub.status.idle": "2023-02-04T12:17:40.094570Z",
     "shell.execute_reply": "2023-02-04T12:17:40.093269Z"
    },
    "papermill": {
     "duration": 0.032079,
     "end_time": "2023-02-04T12:17:40.097193",
     "exception": false,
     "start_time": "2023-02-04T12:17:40.065114",
     "status": "completed"
    },
    "tags": []
   },
   "outputs": [
    {
     "data": {
      "text/plain": [
       "False"
      ]
     },
     "execution_count": 12,
     "metadata": {},
     "output_type": "execute_result"
    }
   ],
   "source": [
    "df_test.duplicated().any()"
   ]
  },
  {
   "cell_type": "markdown",
   "id": "9bf806d5",
   "metadata": {
    "papermill": {
     "duration": 0.016745,
     "end_time": "2023-02-04T12:17:40.130509",
     "exception": false,
     "start_time": "2023-02-04T12:17:40.113764",
     "status": "completed"
    },
    "tags": []
   },
   "source": [
    "***Check for outliers. If present try to handle them (Train Data)***"
   ]
  },
  {
   "cell_type": "code",
   "execution_count": 13,
   "id": "c6331554",
   "metadata": {
    "execution": {
     "iopub.execute_input": "2023-02-04T12:17:40.168300Z",
     "iopub.status.busy": "2023-02-04T12:17:40.167870Z",
     "iopub.status.idle": "2023-02-04T12:17:40.179639Z",
     "shell.execute_reply": "2023-02-04T12:17:40.178421Z"
    },
    "papermill": {
     "duration": 0.034299,
     "end_time": "2023-02-04T12:17:40.182261",
     "exception": false,
     "start_time": "2023-02-04T12:17:40.147962",
     "status": "completed"
    },
    "tags": []
   },
   "outputs": [
    {
     "data": {
      "text/plain": [
       "Id                      0.000000\n",
       "fixed acidity           0.959832\n",
       "volatile acidity        0.668343\n",
       "citric acid             0.246571\n",
       "residual sugar          3.756802\n",
       "chlorides               5.262627\n",
       "free sulfur dioxide     0.681219\n",
       "total sulfur dioxide    1.267906\n",
       "density                 0.202606\n",
       "pH                      0.216976\n",
       "sulphates               1.802854\n",
       "alcohol                 0.786872\n",
       "quality                 0.266307\n",
       "dtype: float64"
      ]
     },
     "execution_count": 13,
     "metadata": {},
     "output_type": "execute_result"
    }
   ],
   "source": [
    "df_train.skew()"
   ]
  },
  {
   "cell_type": "code",
   "execution_count": 14,
   "id": "c74ce66f",
   "metadata": {
    "execution": {
     "iopub.execute_input": "2023-02-04T12:17:40.218148Z",
     "iopub.status.busy": "2023-02-04T12:17:40.217712Z",
     "iopub.status.idle": "2023-02-04T12:17:42.706388Z",
     "shell.execute_reply": "2023-02-04T12:17:42.704793Z"
    },
    "papermill": {
     "duration": 2.509536,
     "end_time": "2023-02-04T12:17:42.709035",
     "exception": false,
     "start_time": "2023-02-04T12:17:40.199499",
     "status": "completed"
    },
    "tags": []
   },
   "outputs": [
    {
     "data": {
      "image/png": "[encoded data removed]",
      "text/plain": [
       "<Figure size 1080x1080 with 16 Axes>"
      ]
     },
     "metadata": {
      "needs_background": "light"
     },
     "output_type": "display_data"
    }
   ],
   "source": [
    "df_train.hist(bins=30, figsize=(15,15))\n",
    "plt.show()"
   ]
  },
  {
   "cell_type": "markdown",
   "id": "428d4ae1",
   "metadata": {
    "papermill": {
     "duration": 0.01766,
     "end_time": "2023-02-04T12:17:42.744663",
     "exception": false,
     "start_time": "2023-02-04T12:17:42.727003",
     "status": "completed"
    },
    "tags": []
   },
   "source": [
    "*Columns such as 'residual sugar', 'chlorides', 'total sulfur dioxide' and 'sulphates' are* ***Highly Skewed*** \n",
    "\n",
    "*Columns such as 'fixed acidity', 'volatile acidity', 'free sulfur dioxide' and 'alcohol are* ***Moderately Skewed***"
   ]
  },
  {
   "cell_type": "markdown",
   "id": "5f4744ec",
   "metadata": {
    "papermill": {
     "duration": 0.017218,
     "end_time": "2023-02-04T12:17:42.779553",
     "exception": false,
     "start_time": "2023-02-04T12:17:42.762335",
     "status": "completed"
    },
    "tags": []
   },
   "source": [
    "***Handling Skewness***"
   ]
  },
  {
   "cell_type": "code",
   "execution_count": 15,
   "id": "944cf13a",
   "metadata": {
    "execution": {
     "iopub.execute_input": "2023-02-04T12:17:42.818579Z",
     "iopub.status.busy": "2023-02-04T12:17:42.818111Z",
     "iopub.status.idle": "2023-02-04T12:17:42.828234Z",
     "shell.execute_reply": "2023-02-04T12:17:42.827008Z"
    },
    "papermill": {
     "duration": 0.032802,
     "end_time": "2023-02-04T12:17:42.830943",
     "exception": false,
     "start_time": "2023-02-04T12:17:42.798141",
     "status": "completed"
    },
    "tags": []
   },
   "outputs": [],
   "source": [
    "# Interquantile Range\n",
    "quantile1=df_train[\"residual sugar\"].quantile(0.25)\n",
    "quantile2=df_train[\"residual sugar\"].quantile(0.75)"
   ]
  },
  {
   "cell_type": "code",
   "execution_count": 16,
   "id": "c5db008b",
   "metadata": {
    "execution": {
     "iopub.execute_input": "2023-02-04T12:17:42.868565Z",
     "iopub.status.busy": "2023-02-04T12:17:42.867734Z",
     "iopub.status.idle": "2023-02-04T12:17:42.876254Z",
     "shell.execute_reply": "2023-02-04T12:17:42.875388Z"
    },
    "papermill": {
     "duration": 0.03022,
     "end_time": "2023-02-04T12:17:42.878671",
     "exception": false,
     "start_time": "2023-02-04T12:17:42.848451",
     "status": "completed"
    },
    "tags": []
   },
   "outputs": [],
   "source": [
    "df_train[\"residual sugar\"]=np.where(df_train[\"residual sugar\"]<quantile1,quantile1,df_train[\"residual sugar\"])\n",
    "df_train[\"residual sugar\"]=np.where(df_train[\"residual sugar\"]>quantile2,quantile2,df_train[\"residual sugar\"])"
   ]
  },
  {
   "cell_type": "code",
   "execution_count": 17,
   "id": "c372a64c",
   "metadata": {
    "execution": {
     "iopub.execute_input": "2023-02-04T12:17:42.916571Z",
     "iopub.status.busy": "2023-02-04T12:17:42.915806Z",
     "iopub.status.idle": "2023-02-04T12:17:42.923558Z",
     "shell.execute_reply": "2023-02-04T12:17:42.921622Z"
    },
    "papermill": {
     "duration": 0.030441,
     "end_time": "2023-02-04T12:17:42.926772",
     "exception": false,
     "start_time": "2023-02-04T12:17:42.896331",
     "status": "completed"
    },
    "tags": []
   },
   "outputs": [
    {
     "name": "stdout",
     "output_type": "stream",
     "text": [
      "0.128837\n"
     ]
    }
   ],
   "source": [
    "a = round(df_train['residual sugar'].skew(),6)\n",
    "print(a)"
   ]
  },
  {
   "cell_type": "code",
   "execution_count": 18,
   "id": "4660f631",
   "metadata": {
    "execution": {
     "iopub.execute_input": "2023-02-04T12:17:42.964559Z",
     "iopub.status.busy": "2023-02-04T12:17:42.964122Z",
     "iopub.status.idle": "2023-02-04T12:17:42.974096Z",
     "shell.execute_reply": "2023-02-04T12:17:42.971802Z"
    },
    "papermill": {
     "duration": 0.033042,
     "end_time": "2023-02-04T12:17:42.977349",
     "exception": false,
     "start_time": "2023-02-04T12:17:42.944307",
     "status": "completed"
    },
    "tags": []
   },
   "outputs": [
    {
     "name": "stdout",
     "output_type": "stream",
     "text": [
      "0.293514\n"
     ]
    }
   ],
   "source": [
    "# Log Transformation\n",
    "df_train['chlorides'] = np.log(df_train['chlorides'])\n",
    "b = round(df_train['chlorides'].skew(),6)\n",
    "print(b)"
   ]
  },
  {
   "cell_type": "code",
   "execution_count": 19,
   "id": "d824f441",
   "metadata": {
    "execution": {
     "iopub.execute_input": "2023-02-04T12:17:43.016247Z",
     "iopub.status.busy": "2023-02-04T12:17:43.015124Z",
     "iopub.status.idle": "2023-02-04T12:17:43.024530Z",
     "shell.execute_reply": "2023-02-04T12:17:43.023156Z"
    },
    "papermill": {
     "duration": 0.031484,
     "end_time": "2023-02-04T12:17:43.027369",
     "exception": false,
     "start_time": "2023-02-04T12:17:42.995885",
     "status": "completed"
    },
    "tags": []
   },
   "outputs": [],
   "source": [
    "# Interquantile Range\n",
    "quantile1=df_train[\"total sulfur dioxide\"].quantile(0.25)\n",
    "quantile2=df_train[\"total sulfur dioxide\"].quantile(0.75)"
   ]
  },
  {
   "cell_type": "code",
   "execution_count": 20,
   "id": "2498429b",
   "metadata": {
    "execution": {
     "iopub.execute_input": "2023-02-04T12:17:43.065698Z",
     "iopub.status.busy": "2023-02-04T12:17:43.064520Z",
     "iopub.status.idle": "2023-02-04T12:17:43.072634Z",
     "shell.execute_reply": "2023-02-04T12:17:43.071381Z"
    },
    "papermill": {
     "duration": 0.03009,
     "end_time": "2023-02-04T12:17:43.075614",
     "exception": false,
     "start_time": "2023-02-04T12:17:43.045524",
     "status": "completed"
    },
    "tags": []
   },
   "outputs": [],
   "source": [
    "df_train[\"total sulfur dioxide\"]=np.where(df_train[\"total sulfur dioxide\"]<quantile1,quantile1,df_train[\"total sulfur dioxide\"])\n",
    "df_train[\"total sulfur dioxide\"]=np.where(df_train[\"total sulfur dioxide\"]>quantile2,quantile2,df_train[\"total sulfur dioxide\"])"
   ]
  },
  {
   "cell_type": "code",
   "execution_count": 21,
   "id": "cc1ad6d9",
   "metadata": {
    "execution": {
     "iopub.execute_input": "2023-02-04T12:17:43.113181Z",
     "iopub.status.busy": "2023-02-04T12:17:43.112733Z",
     "iopub.status.idle": "2023-02-04T12:17:43.120591Z",
     "shell.execute_reply": "2023-02-04T12:17:43.118749Z"
    },
    "papermill": {
     "duration": 0.030155,
     "end_time": "2023-02-04T12:17:43.123375",
     "exception": false,
     "start_time": "2023-02-04T12:17:43.093220",
     "status": "completed"
    },
    "tags": []
   },
   "outputs": [
    {
     "name": "stdout",
     "output_type": "stream",
     "text": [
      "0.014584\n"
     ]
    }
   ],
   "source": [
    "c = round(df_train['total sulfur dioxide'].skew(),6)\n",
    "print(c)"
   ]
  },
  {
   "cell_type": "code",
   "execution_count": 22,
   "id": "9acecacf",
   "metadata": {
    "execution": {
     "iopub.execute_input": "2023-02-04T12:17:43.162900Z",
     "iopub.status.busy": "2023-02-04T12:17:43.162464Z",
     "iopub.status.idle": "2023-02-04T12:17:43.171502Z",
     "shell.execute_reply": "2023-02-04T12:17:43.169884Z"
    },
    "papermill": {
     "duration": 0.032535,
     "end_time": "2023-02-04T12:17:43.174738",
     "exception": false,
     "start_time": "2023-02-04T12:17:43.142203",
     "status": "completed"
    },
    "tags": []
   },
   "outputs": [
    {
     "name": "stdout",
     "output_type": "stream",
     "text": [
      "0.657493\n"
     ]
    }
   ],
   "source": [
    "# Log Transformation\n",
    "df_train['sulphates'] = np.log(df_train['sulphates'])\n",
    "d = round(df_train['sulphates'].skew(),6)\n",
    "print(d)"
   ]
  },
  {
   "cell_type": "code",
   "execution_count": 23,
   "id": "54aec7b7",
   "metadata": {
    "execution": {
     "iopub.execute_input": "2023-02-04T12:17:43.213596Z",
     "iopub.status.busy": "2023-02-04T12:17:43.213159Z",
     "iopub.status.idle": "2023-02-04T12:17:43.221399Z",
     "shell.execute_reply": "2023-02-04T12:17:43.219598Z"
    },
    "papermill": {
     "duration": 0.031529,
     "end_time": "2023-02-04T12:17:43.224270",
     "exception": false,
     "start_time": "2023-02-04T12:17:43.192741",
     "status": "completed"
    },
    "tags": []
   },
   "outputs": [
    {
     "name": "stdout",
     "output_type": "stream",
     "text": [
      "0.448891\n"
     ]
    }
   ],
   "source": [
    "# Log Transformation\n",
    "df_train['fixed acidity'] = np.log(df_train['fixed acidity'])\n",
    "e = round(df_train['fixed acidity'].skew(),6)\n",
    "print(e)"
   ]
  },
  {
   "cell_type": "code",
   "execution_count": 24,
   "id": "60112270",
   "metadata": {
    "execution": {
     "iopub.execute_input": "2023-02-04T12:17:43.262857Z",
     "iopub.status.busy": "2023-02-04T12:17:43.262183Z",
     "iopub.status.idle": "2023-02-04T12:17:43.269930Z",
     "shell.execute_reply": "2023-02-04T12:17:43.269016Z"
    },
    "papermill": {
     "duration": 0.030186,
     "end_time": "2023-02-04T12:17:43.272359",
     "exception": false,
     "start_time": "2023-02-04T12:17:43.242173",
     "status": "completed"
    },
    "tags": []
   },
   "outputs": [],
   "source": [
    "# Interquantile Range\n",
    "quantile1=df_train[\"alcohol\"].quantile(0.25)\n",
    "quantile2=df_train[\"alcohol\"].quantile(0.75)"
   ]
  },
  {
   "cell_type": "code",
   "execution_count": 25,
   "id": "a6787c20",
   "metadata": {
    "execution": {
     "iopub.execute_input": "2023-02-04T12:17:43.311840Z",
     "iopub.status.busy": "2023-02-04T12:17:43.311157Z",
     "iopub.status.idle": "2023-02-04T12:17:43.318853Z",
     "shell.execute_reply": "2023-02-04T12:17:43.317865Z"
    },
    "papermill": {
     "duration": 0.03087,
     "end_time": "2023-02-04T12:17:43.321471",
     "exception": false,
     "start_time": "2023-02-04T12:17:43.290601",
     "status": "completed"
    },
    "tags": []
   },
   "outputs": [],
   "source": [
    "df_train[\"alcohol\"]=np.where(df_train[\"alcohol\"]<quantile1,quantile1,df_train[\"alcohol\"])\n",
    "df_train[\"alcohol\"]=np.where(df_train[\"alcohol\"]>quantile2,quantile2,df_train[\"alcohol\"])"
   ]
  },
  {
   "cell_type": "code",
   "execution_count": 26,
   "id": "5d4bb39b",
   "metadata": {
    "execution": {
     "iopub.execute_input": "2023-02-04T12:17:43.361323Z",
     "iopub.status.busy": "2023-02-04T12:17:43.360895Z",
     "iopub.status.idle": "2023-02-04T12:17:43.368312Z",
     "shell.execute_reply": "2023-02-04T12:17:43.366641Z"
    },
    "papermill": {
     "duration": 0.031081,
     "end_time": "2023-02-04T12:17:43.371345",
     "exception": false,
     "start_time": "2023-02-04T12:17:43.340264",
     "status": "completed"
    },
    "tags": []
   },
   "outputs": [
    {
     "name": "stdout",
     "output_type": "stream",
     "text": [
      "0.097996\n"
     ]
    }
   ],
   "source": [
    "f = round(df_train['alcohol'].skew(),6)\n",
    "print(f)"
   ]
  },
  {
   "cell_type": "code",
   "execution_count": 27,
   "id": "2b713812",
   "metadata": {
    "execution": {
     "iopub.execute_input": "2023-02-04T12:17:43.411231Z",
     "iopub.status.busy": "2023-02-04T12:17:43.410508Z",
     "iopub.status.idle": "2023-02-04T12:17:43.419915Z",
     "shell.execute_reply": "2023-02-04T12:17:43.417785Z"
    },
    "papermill": {
     "duration": 0.033124,
     "end_time": "2023-02-04T12:17:43.422833",
     "exception": false,
     "start_time": "2023-02-04T12:17:43.389709",
     "status": "completed"
    },
    "tags": []
   },
   "outputs": [
    {
     "name": "stdout",
     "output_type": "stream",
     "text": [
      "0.159986\n"
     ]
    }
   ],
   "source": [
    "# SquareRoot Transformation\n",
    "df_train['volatile acidity'] = np.sqrt(df_train['volatile acidity'])\n",
    "g = round(df_train['volatile acidity'].skew(),6)\n",
    "print(g)"
   ]
  },
  {
   "cell_type": "code",
   "execution_count": 28,
   "id": "99544441",
   "metadata": {
    "execution": {
     "iopub.execute_input": "2023-02-04T12:17:43.462670Z",
     "iopub.status.busy": "2023-02-04T12:17:43.462237Z",
     "iopub.status.idle": "2023-02-04T12:17:43.470289Z",
     "shell.execute_reply": "2023-02-04T12:17:43.469149Z"
    },
    "papermill": {
     "duration": 0.031116,
     "end_time": "2023-02-04T12:17:43.473351",
     "exception": false,
     "start_time": "2023-02-04T12:17:43.442235",
     "status": "completed"
    },
    "tags": []
   },
   "outputs": [
    {
     "name": "stdout",
     "output_type": "stream",
     "text": [
      "-0.398163\n"
     ]
    }
   ],
   "source": [
    "# Log Transformation\n",
    "df_train['free sulfur dioxide'] = np.log(df_train['free sulfur dioxide'])\n",
    "h = round(df_train['free sulfur dioxide'].skew(),6)\n",
    "print(h)"
   ]
  },
  {
   "cell_type": "code",
   "execution_count": 29,
   "id": "75b57a45",
   "metadata": {
    "execution": {
     "iopub.execute_input": "2023-02-04T12:17:43.513001Z",
     "iopub.status.busy": "2023-02-04T12:17:43.512582Z",
     "iopub.status.idle": "2023-02-04T12:17:43.524558Z",
     "shell.execute_reply": "2023-02-04T12:17:43.523266Z"
    },
    "papermill": {
     "duration": 0.035686,
     "end_time": "2023-02-04T12:17:43.527264",
     "exception": false,
     "start_time": "2023-02-04T12:17:43.491578",
     "status": "completed"
    },
    "tags": []
   },
   "outputs": [
    {
     "data": {
      "text/plain": [
       "Id                      0.000000\n",
       "fixed acidity           0.448891\n",
       "volatile acidity        0.159986\n",
       "citric acid             0.246571\n",
       "residual sugar          0.128837\n",
       "chlorides               0.293514\n",
       "free sulfur dioxide    -0.398163\n",
       "total sulfur dioxide    0.014584\n",
       "density                 0.202606\n",
       "pH                      0.216976\n",
       "sulphates               0.657493\n",
       "alcohol                 0.097996\n",
       "quality                 0.266307\n",
       "dtype: float64"
      ]
     },
     "execution_count": 29,
     "metadata": {},
     "output_type": "execute_result"
    }
   ],
   "source": [
    "df_train.skew()"
   ]
  },
  {
   "cell_type": "markdown",
   "id": "f5e020f1",
   "metadata": {
    "papermill": {
     "duration": 0.018181,
     "end_time": "2023-02-04T12:17:43.563743",
     "exception": false,
     "start_time": "2023-02-04T12:17:43.545562",
     "status": "completed"
    },
    "tags": []
   },
   "source": [
    "***Check for outliers. If present try to handle them (Test Data)***"
   ]
  },
  {
   "cell_type": "code",
   "execution_count": 30,
   "id": "6d22db3d",
   "metadata": {
    "execution": {
     "iopub.execute_input": "2023-02-04T12:17:43.602609Z",
     "iopub.status.busy": "2023-02-04T12:17:43.602198Z",
     "iopub.status.idle": "2023-02-04T12:17:43.613091Z",
     "shell.execute_reply": "2023-02-04T12:17:43.611663Z"
    },
    "papermill": {
     "duration": 0.033257,
     "end_time": "2023-02-04T12:17:43.615785",
     "exception": false,
     "start_time": "2023-02-04T12:17:43.582528",
     "status": "completed"
    },
    "tags": []
   },
   "outputs": [
    {
     "data": {
      "text/plain": [
       "Id                      0.000000\n",
       "fixed acidity           0.998275\n",
       "volatile acidity        0.751330\n",
       "citric acid             0.212425\n",
       "residual sugar          3.186226\n",
       "chlorides               6.452885\n",
       "free sulfur dioxide     0.713118\n",
       "total sulfur dioxide    1.087170\n",
       "density                 0.106033\n",
       "pH                      0.269916\n",
       "sulphates               1.633799\n",
       "alcohol                 0.721949\n",
       "dtype: float64"
      ]
     },
     "execution_count": 30,
     "metadata": {},
     "output_type": "execute_result"
    }
   ],
   "source": [
    "df_test.skew()"
   ]
  },
  {
   "cell_type": "code",
   "execution_count": 31,
   "id": "8449bbe7",
   "metadata": {
    "execution": {
     "iopub.execute_input": "2023-02-04T12:17:43.654560Z",
     "iopub.status.busy": "2023-02-04T12:17:43.654125Z",
     "iopub.status.idle": "2023-02-04T12:17:45.826815Z",
     "shell.execute_reply": "2023-02-04T12:17:45.825655Z"
    },
    "papermill": {
     "duration": 2.196013,
     "end_time": "2023-02-04T12:17:45.830317",
     "exception": false,
     "start_time": "2023-02-04T12:17:43.634304",
     "status": "completed"
    },
    "tags": []
   },
   "outputs": [
    {
     "data": {
      "image/png": "[encoded data removed]",
      "text/plain": [
       "<Figure size 1080x1080 with 12 Axes>"
      ]
     },
     "metadata": {
      "needs_background": "light"
     },
     "output_type": "display_data"
    }
   ],
   "source": [
    "df_test.hist(bins=30, figsize=(15,15))\n",
    "plt.show()"
   ]
  },
  {
   "cell_type": "markdown",
   "id": "25e9e55f",
   "metadata": {
    "papermill": {
     "duration": 0.019012,
     "end_time": "2023-02-04T12:17:45.868785",
     "exception": false,
     "start_time": "2023-02-04T12:17:45.849773",
     "status": "completed"
    },
    "tags": []
   },
   "source": [
    "*Columns such as 'residual sugar', 'chlorides', 'total sulfur dioxide' and 'sulphates' are* ***Highly Skewed*** \n",
    "\n",
    "*Columns such as 'fixed acidity', 'volatile acidity', 'free sulfur dioxide' and 'alcohol are* ***Moderately Skewed***"
   ]
  },
  {
   "cell_type": "code",
   "execution_count": 32,
   "id": "d1868fdb",
   "metadata": {
    "execution": {
     "iopub.execute_input": "2023-02-04T12:17:45.910910Z",
     "iopub.status.busy": "2023-02-04T12:17:45.910230Z",
     "iopub.status.idle": "2023-02-04T12:17:45.917260Z",
     "shell.execute_reply": "2023-02-04T12:17:45.916303Z"
    },
    "papermill": {
     "duration": 0.031487,
     "end_time": "2023-02-04T12:17:45.919825",
     "exception": false,
     "start_time": "2023-02-04T12:17:45.888338",
     "status": "completed"
    },
    "tags": []
   },
   "outputs": [],
   "source": [
    "# Interquantile Range\n",
    "quantile1=df_test[\"residual sugar\"].quantile(0.25)\n",
    "quantile2=df_test[\"residual sugar\"].quantile(0.75)"
   ]
  },
  {
   "cell_type": "code",
   "execution_count": 33,
   "id": "5ae7fc97",
   "metadata": {
    "execution": {
     "iopub.execute_input": "2023-02-04T12:17:45.961284Z",
     "iopub.status.busy": "2023-02-04T12:17:45.960564Z",
     "iopub.status.idle": "2023-02-04T12:17:45.967018Z",
     "shell.execute_reply": "2023-02-04T12:17:45.966050Z"
    },
    "papermill": {
     "duration": 0.030007,
     "end_time": "2023-02-04T12:17:45.969685",
     "exception": false,
     "start_time": "2023-02-04T12:17:45.939678",
     "status": "completed"
    },
    "tags": []
   },
   "outputs": [],
   "source": [
    "df_test[\"residual sugar\"]=np.where(df_test[\"residual sugar\"]<quantile1,quantile1,df_test[\"residual sugar\"])\n",
    "df_test[\"residual sugar\"]=np.where(df_test[\"residual sugar\"]>quantile2,quantile2,df_test[\"residual sugar\"])"
   ]
  },
  {
   "cell_type": "code",
   "execution_count": 34,
   "id": "81b9a066",
   "metadata": {
    "execution": {
     "iopub.execute_input": "2023-02-04T12:17:46.011927Z",
     "iopub.status.busy": "2023-02-04T12:17:46.011228Z",
     "iopub.status.idle": "2023-02-04T12:17:46.018339Z",
     "shell.execute_reply": "2023-02-04T12:17:46.016786Z"
    },
    "papermill": {
     "duration": 0.031642,
     "end_time": "2023-02-04T12:17:46.020966",
     "exception": false,
     "start_time": "2023-02-04T12:17:45.989324",
     "status": "completed"
    },
    "tags": []
   },
   "outputs": [
    {
     "name": "stdout",
     "output_type": "stream",
     "text": [
      "0.188975\n"
     ]
    }
   ],
   "source": [
    "a = round(df_test['residual sugar'].skew(),6)\n",
    "print(a)"
   ]
  },
  {
   "cell_type": "code",
   "execution_count": 35,
   "id": "377ed4cc",
   "metadata": {
    "execution": {
     "iopub.execute_input": "2023-02-04T12:17:46.062096Z",
     "iopub.status.busy": "2023-02-04T12:17:46.061122Z",
     "iopub.status.idle": "2023-02-04T12:17:46.070309Z",
     "shell.execute_reply": "2023-02-04T12:17:46.068476Z"
    },
    "papermill": {
     "duration": 0.033051,
     "end_time": "2023-02-04T12:17:46.073330",
     "exception": false,
     "start_time": "2023-02-04T12:17:46.040279",
     "status": "completed"
    },
    "tags": []
   },
   "outputs": [
    {
     "name": "stdout",
     "output_type": "stream",
     "text": [
      "0.510705\n"
     ]
    }
   ],
   "source": [
    "# Log Transformation\n",
    "df_test['chlorides'] = np.log(df_test['chlorides'])\n",
    "b = round(df_test['chlorides'].skew(),6)\n",
    "print(b)"
   ]
  },
  {
   "cell_type": "code",
   "execution_count": 36,
   "id": "aa45bfff",
   "metadata": {
    "execution": {
     "iopub.execute_input": "2023-02-04T12:17:46.116485Z",
     "iopub.status.busy": "2023-02-04T12:17:46.115106Z",
     "iopub.status.idle": "2023-02-04T12:17:46.124076Z",
     "shell.execute_reply": "2023-02-04T12:17:46.123074Z"
    },
    "papermill": {
     "duration": 0.033392,
     "end_time": "2023-02-04T12:17:46.126661",
     "exception": false,
     "start_time": "2023-02-04T12:17:46.093269",
     "status": "completed"
    },
    "tags": []
   },
   "outputs": [],
   "source": [
    "# Interquantile Range\n",
    "quantile1=df_test[\"total sulfur dioxide\"].quantile(0.25)\n",
    "quantile2=df_test[\"total sulfur dioxide\"].quantile(0.75)"
   ]
  },
  {
   "cell_type": "code",
   "execution_count": 37,
   "id": "ef6b69e4",
   "metadata": {
    "execution": {
     "iopub.execute_input": "2023-02-04T12:17:46.168728Z",
     "iopub.status.busy": "2023-02-04T12:17:46.167362Z",
     "iopub.status.idle": "2023-02-04T12:17:46.175571Z",
     "shell.execute_reply": "2023-02-04T12:17:46.174562Z"
    },
    "papermill": {
     "duration": 0.032414,
     "end_time": "2023-02-04T12:17:46.178348",
     "exception": false,
     "start_time": "2023-02-04T12:17:46.145934",
     "status": "completed"
    },
    "tags": []
   },
   "outputs": [],
   "source": [
    "df_test[\"total sulfur dioxide\"]=np.where(df_test[\"total sulfur dioxide\"]<quantile1,quantile1,df_test[\"total sulfur dioxide\"])\n",
    "df_test[\"total sulfur dioxide\"]=np.where(df_test[\"total sulfur dioxide\"]>quantile2,quantile2,df_test[\"total sulfur dioxide\"])"
   ]
  },
  {
   "cell_type": "code",
   "execution_count": 38,
   "id": "d25cc66e",
   "metadata": {
    "execution": {
     "iopub.execute_input": "2023-02-04T12:17:46.220283Z",
     "iopub.status.busy": "2023-02-04T12:17:46.219242Z",
     "iopub.status.idle": "2023-02-04T12:17:46.226024Z",
     "shell.execute_reply": "2023-02-04T12:17:46.225084Z"
    },
    "papermill": {
     "duration": 0.030811,
     "end_time": "2023-02-04T12:17:46.228786",
     "exception": false,
     "start_time": "2023-02-04T12:17:46.197975",
     "status": "completed"
    },
    "tags": []
   },
   "outputs": [
    {
     "name": "stdout",
     "output_type": "stream",
     "text": [
      "0.132918\n"
     ]
    }
   ],
   "source": [
    "c = round(df_test['total sulfur dioxide'].skew(),6)\n",
    "print(c)"
   ]
  },
  {
   "cell_type": "code",
   "execution_count": 39,
   "id": "b9bc0df1",
   "metadata": {
    "execution": {
     "iopub.execute_input": "2023-02-04T12:17:46.271211Z",
     "iopub.status.busy": "2023-02-04T12:17:46.270727Z",
     "iopub.status.idle": "2023-02-04T12:17:46.279357Z",
     "shell.execute_reply": "2023-02-04T12:17:46.277877Z"
    },
    "papermill": {
     "duration": 0.034815,
     "end_time": "2023-02-04T12:17:46.284313",
     "exception": false,
     "start_time": "2023-02-04T12:17:46.249498",
     "status": "completed"
    },
    "tags": []
   },
   "outputs": [
    {
     "name": "stdout",
     "output_type": "stream",
     "text": [
      "0.583644\n"
     ]
    }
   ],
   "source": [
    "# Log Transformation\n",
    "df_test['sulphates'] = np.log(df_test['sulphates'])\n",
    "d = round(df_test['sulphates'].skew(),6)\n",
    "print(d)"
   ]
  },
  {
   "cell_type": "code",
   "execution_count": 40,
   "id": "d7988ddd",
   "metadata": {
    "execution": {
     "iopub.execute_input": "2023-02-04T12:17:46.327128Z",
     "iopub.status.busy": "2023-02-04T12:17:46.326691Z",
     "iopub.status.idle": "2023-02-04T12:17:46.335071Z",
     "shell.execute_reply": "2023-02-04T12:17:46.333618Z"
    },
    "papermill": {
     "duration": 0.032745,
     "end_time": "2023-02-04T12:17:46.337918",
     "exception": false,
     "start_time": "2023-02-04T12:17:46.305173",
     "status": "completed"
    },
    "tags": []
   },
   "outputs": [
    {
     "name": "stdout",
     "output_type": "stream",
     "text": [
      "0.525269\n"
     ]
    }
   ],
   "source": [
    "# Log Transformation\n",
    "df_test['fixed acidity'] = np.log(df_test['fixed acidity'])\n",
    "e = round(df_test['fixed acidity'].skew(),6)\n",
    "print(e)"
   ]
  },
  {
   "cell_type": "code",
   "execution_count": 41,
   "id": "ec637e67",
   "metadata": {
    "execution": {
     "iopub.execute_input": "2023-02-04T12:17:46.381982Z",
     "iopub.status.busy": "2023-02-04T12:17:46.381214Z",
     "iopub.status.idle": "2023-02-04T12:17:46.389531Z",
     "shell.execute_reply": "2023-02-04T12:17:46.388020Z"
    },
    "papermill": {
     "duration": 0.03361,
     "end_time": "2023-02-04T12:17:46.391917",
     "exception": false,
     "start_time": "2023-02-04T12:17:46.358307",
     "status": "completed"
    },
    "tags": []
   },
   "outputs": [
    {
     "name": "stdout",
     "output_type": "stream",
     "text": [
      "0.273401\n"
     ]
    }
   ],
   "source": [
    "# SquareRoot Transformation\n",
    "df_test['volatile acidity'] = np.sqrt(df_test['volatile acidity'])\n",
    "f = round(df_test['volatile acidity'].skew(),6)\n",
    "print(f)"
   ]
  },
  {
   "cell_type": "code",
   "execution_count": 42,
   "id": "18fbe356",
   "metadata": {
    "execution": {
     "iopub.execute_input": "2023-02-04T12:17:46.433985Z",
     "iopub.status.busy": "2023-02-04T12:17:46.433518Z",
     "iopub.status.idle": "2023-02-04T12:17:46.442509Z",
     "shell.execute_reply": "2023-02-04T12:17:46.441131Z"
    },
    "papermill": {
     "duration": 0.033214,
     "end_time": "2023-02-04T12:17:46.444926",
     "exception": false,
     "start_time": "2023-02-04T12:17:46.411712",
     "status": "completed"
    },
    "tags": []
   },
   "outputs": [],
   "source": [
    "# Interquantile Range\n",
    "quantile1=df_test[\"alcohol\"].quantile(0.25)\n",
    "quantile2=df_test[\"alcohol\"].quantile(0.75)"
   ]
  },
  {
   "cell_type": "code",
   "execution_count": 43,
   "id": "1df7b7b3",
   "metadata": {
    "execution": {
     "iopub.execute_input": "2023-02-04T12:17:46.486660Z",
     "iopub.status.busy": "2023-02-04T12:17:46.485689Z",
     "iopub.status.idle": "2023-02-04T12:17:46.492820Z",
     "shell.execute_reply": "2023-02-04T12:17:46.491489Z"
    },
    "papermill": {
     "duration": 0.031059,
     "end_time": "2023-02-04T12:17:46.495482",
     "exception": false,
     "start_time": "2023-02-04T12:17:46.464423",
     "status": "completed"
    },
    "tags": []
   },
   "outputs": [],
   "source": [
    "df_test[\"alcohol\"]=np.where(df_test[\"alcohol\"]<quantile1,quantile1,df_test[\"alcohol\"])\n",
    "df_test[\"alcohol\"]=np.where(df_test[\"alcohol\"]>quantile2,quantile2,df_test[\"alcohol\"])"
   ]
  },
  {
   "cell_type": "code",
   "execution_count": 44,
   "id": "0d048aa3",
   "metadata": {
    "execution": {
     "iopub.execute_input": "2023-02-04T12:17:46.537354Z",
     "iopub.status.busy": "2023-02-04T12:17:46.536920Z",
     "iopub.status.idle": "2023-02-04T12:17:46.544202Z",
     "shell.execute_reply": "2023-02-04T12:17:46.542674Z"
    },
    "papermill": {
     "duration": 0.031749,
     "end_time": "2023-02-04T12:17:46.546654",
     "exception": false,
     "start_time": "2023-02-04T12:17:46.514905",
     "status": "completed"
    },
    "tags": []
   },
   "outputs": [
    {
     "name": "stdout",
     "output_type": "stream",
     "text": [
      "0.153071\n"
     ]
    }
   ],
   "source": [
    "g = round(df_test['alcohol'].skew(),6)\n",
    "print(g)"
   ]
  },
  {
   "cell_type": "code",
   "execution_count": 45,
   "id": "7a28e6e7",
   "metadata": {
    "execution": {
     "iopub.execute_input": "2023-02-04T12:17:46.589388Z",
     "iopub.status.busy": "2023-02-04T12:17:46.588956Z",
     "iopub.status.idle": "2023-02-04T12:17:46.596022Z",
     "shell.execute_reply": "2023-02-04T12:17:46.595137Z"
    },
    "papermill": {
     "duration": 0.032339,
     "end_time": "2023-02-04T12:17:46.599080",
     "exception": false,
     "start_time": "2023-02-04T12:17:46.566741",
     "status": "completed"
    },
    "tags": []
   },
   "outputs": [
    {
     "name": "stdout",
     "output_type": "stream",
     "text": [
      "0.114016\n"
     ]
    }
   ],
   "source": [
    "# SquareRoot Transformation\n",
    "df_test['free sulfur dioxide'] = np.sqrt(df_test['free sulfur dioxide'])\n",
    "h = round(df_test['free sulfur dioxide'].skew(),6)\n",
    "print(h)"
   ]
  },
  {
   "cell_type": "code",
   "execution_count": 46,
   "id": "19b0f87a",
   "metadata": {
    "execution": {
     "iopub.execute_input": "2023-02-04T12:17:46.643749Z",
     "iopub.status.busy": "2023-02-04T12:17:46.643355Z",
     "iopub.status.idle": "2023-02-04T12:17:46.652283Z",
     "shell.execute_reply": "2023-02-04T12:17:46.651320Z"
    },
    "papermill": {
     "duration": 0.033696,
     "end_time": "2023-02-04T12:17:46.654398",
     "exception": false,
     "start_time": "2023-02-04T12:17:46.620702",
     "status": "completed"
    },
    "tags": []
   },
   "outputs": [
    {
     "data": {
      "text/plain": [
       "Id                      0.000000\n",
       "fixed acidity           0.525269\n",
       "volatile acidity        0.273401\n",
       "citric acid             0.212425\n",
       "residual sugar          0.188975\n",
       "chlorides               0.510705\n",
       "free sulfur dioxide     0.114016\n",
       "total sulfur dioxide    0.132918\n",
       "density                 0.106033\n",
       "pH                      0.269916\n",
       "sulphates               0.583644\n",
       "alcohol                 0.153071\n",
       "dtype: float64"
      ]
     },
     "execution_count": 46,
     "metadata": {},
     "output_type": "execute_result"
    }
   ],
   "source": [
    "df_test.skew()"
   ]
  },
  {
   "cell_type": "markdown",
   "id": "d6237332",
   "metadata": {
    "papermill": {
     "duration": 0.020478,
     "end_time": "2023-02-04T12:17:46.694634",
     "exception": false,
     "start_time": "2023-02-04T12:17:46.674156",
     "status": "completed"
    },
    "tags": []
   },
   "source": [
    "***Correlation (Train)***"
   ]
  },
  {
   "cell_type": "code",
   "execution_count": 47,
   "id": "4a73c918",
   "metadata": {
    "execution": {
     "iopub.execute_input": "2023-02-04T12:17:46.738242Z",
     "iopub.status.busy": "2023-02-04T12:17:46.737509Z",
     "iopub.status.idle": "2023-02-04T12:17:46.763836Z",
     "shell.execute_reply": "2023-02-04T12:17:46.762473Z"
    },
    "papermill": {
     "duration": 0.051738,
     "end_time": "2023-02-04T12:17:46.766690",
     "exception": false,
     "start_time": "2023-02-04T12:17:46.714952",
     "status": "completed"
    },
    "tags": []
   },
   "outputs": [
    {
     "data": {
      "text/html": [
       "<div>\n",
       "<style scoped>\n",
       "    .dataframe tbody tr th:only-of-type {\n",
       "        vertical-align: middle;\n",
       "    }\n",
       "\n",
       "    .dataframe tbody tr th {\n",
       "        vertical-align: top;\n",
       "    }\n",
       "\n",
       "    .dataframe thead th {\n",
       "        text-align: right;\n",
       "    }\n",
       "</style>\n",
       "<table border=\"1\" class=\"dataframe\">\n",
       "  <thead>\n",
       "    <tr style=\"text-align: right;\">\n",
       "      <th></th>\n",
       "      <th>Id</th>\n",
       "      <th>fixed acidity</th>\n",
       "      <th>volatile acidity</th>\n",
       "      <th>citric acid</th>\n",
       "      <th>residual sugar</th>\n",
       "      <th>chlorides</th>\n",
       "      <th>free sulfur dioxide</th>\n",
       "      <th>total sulfur dioxide</th>\n",
       "      <th>density</th>\n",
       "      <th>pH</th>\n",
       "      <th>sulphates</th>\n",
       "      <th>alcohol</th>\n",
       "      <th>quality</th>\n",
       "    </tr>\n",
       "  </thead>\n",
       "  <tbody>\n",
       "    <tr>\n",
       "      <th>Id</th>\n",
       "      <td>1.000000</td>\n",
       "      <td>-0.021168</td>\n",
       "      <td>-0.023272</td>\n",
       "      <td>0.010262</td>\n",
       "      <td>-0.016102</td>\n",
       "      <td>-0.004012</td>\n",
       "      <td>0.024568</td>\n",
       "      <td>-0.000944</td>\n",
       "      <td>-0.022799</td>\n",
       "      <td>0.016261</td>\n",
       "      <td>0.012040</td>\n",
       "      <td>0.000517</td>\n",
       "      <td>0.025684</td>\n",
       "    </tr>\n",
       "    <tr>\n",
       "      <th>fixed acidity</th>\n",
       "      <td>-0.021168</td>\n",
       "      <td>1.000000</td>\n",
       "      <td>-0.329939</td>\n",
       "      <td>0.698346</td>\n",
       "      <td>0.298606</td>\n",
       "      <td>0.222004</td>\n",
       "      <td>-0.241479</td>\n",
       "      <td>-0.156772</td>\n",
       "      <td>0.611695</td>\n",
       "      <td>-0.696062</td>\n",
       "      <td>0.143833</td>\n",
       "      <td>-0.038549</td>\n",
       "      <td>0.065921</td>\n",
       "    </tr>\n",
       "    <tr>\n",
       "      <th>volatile acidity</th>\n",
       "      <td>-0.023272</td>\n",
       "      <td>-0.329939</td>\n",
       "      <td>1.000000</td>\n",
       "      <td>-0.594184</td>\n",
       "      <td>-0.075364</td>\n",
       "      <td>0.060483</td>\n",
       "      <td>0.082005</td>\n",
       "      <td>0.129389</td>\n",
       "      <td>-0.072184</td>\n",
       "      <td>0.246769</td>\n",
       "      <td>-0.361836</td>\n",
       "      <td>-0.222926</td>\n",
       "      <td>-0.226043</td>\n",
       "    </tr>\n",
       "    <tr>\n",
       "      <th>citric acid</th>\n",
       "      <td>0.010262</td>\n",
       "      <td>0.698346</td>\n",
       "      <td>-0.594184</td>\n",
       "      <td>1.000000</td>\n",
       "      <td>0.191672</td>\n",
       "      <td>0.155228</td>\n",
       "      <td>-0.208988</td>\n",
       "      <td>-0.134404</td>\n",
       "      <td>0.376759</td>\n",
       "      <td>-0.558444</td>\n",
       "      <td>0.276540</td>\n",
       "      <td>0.072221</td>\n",
       "      <td>0.141797</td>\n",
       "    </tr>\n",
       "    <tr>\n",
       "      <th>residual sugar</th>\n",
       "      <td>-0.016102</td>\n",
       "      <td>0.298606</td>\n",
       "      <td>-0.075364</td>\n",
       "      <td>0.191672</td>\n",
       "      <td>1.000000</td>\n",
       "      <td>0.157410</td>\n",
       "      <td>-0.051490</td>\n",
       "      <td>0.007783</td>\n",
       "      <td>0.346806</td>\n",
       "      <td>-0.177625</td>\n",
       "      <td>0.024141</td>\n",
       "      <td>0.023868</td>\n",
       "      <td>0.031020</td>\n",
       "    </tr>\n",
       "    <tr>\n",
       "      <th>chlorides</th>\n",
       "      <td>-0.004012</td>\n",
       "      <td>0.222004</td>\n",
       "      <td>0.060483</td>\n",
       "      <td>0.155228</td>\n",
       "      <td>0.157410</td>\n",
       "      <td>1.000000</td>\n",
       "      <td>-0.027467</td>\n",
       "      <td>0.043546</td>\n",
       "      <td>0.319711</td>\n",
       "      <td>-0.168089</td>\n",
       "      <td>0.012908</td>\n",
       "      <td>-0.204425</td>\n",
       "      <td>-0.057792</td>\n",
       "    </tr>\n",
       "    <tr>\n",
       "      <th>free sulfur dioxide</th>\n",
       "      <td>0.024568</td>\n",
       "      <td>-0.241479</td>\n",
       "      <td>0.082005</td>\n",
       "      <td>-0.208988</td>\n",
       "      <td>-0.051490</td>\n",
       "      <td>-0.027467</td>\n",
       "      <td>1.000000</td>\n",
       "      <td>0.769911</td>\n",
       "      <td>-0.074378</td>\n",
       "      <td>0.146622</td>\n",
       "      <td>-0.046795</td>\n",
       "      <td>-0.131432</td>\n",
       "      <td>-0.061303</td>\n",
       "    </tr>\n",
       "    <tr>\n",
       "      <th>total sulfur dioxide</th>\n",
       "      <td>-0.000944</td>\n",
       "      <td>-0.156772</td>\n",
       "      <td>0.129389</td>\n",
       "      <td>-0.134404</td>\n",
       "      <td>0.007783</td>\n",
       "      <td>0.043546</td>\n",
       "      <td>0.769911</td>\n",
       "      <td>1.000000</td>\n",
       "      <td>0.069434</td>\n",
       "      <td>0.054240</td>\n",
       "      <td>-0.136596</td>\n",
       "      <td>-0.312575</td>\n",
       "      <td>-0.199719</td>\n",
       "    </tr>\n",
       "    <tr>\n",
       "      <th>density</th>\n",
       "      <td>-0.022799</td>\n",
       "      <td>0.611695</td>\n",
       "      <td>-0.072184</td>\n",
       "      <td>0.376759</td>\n",
       "      <td>0.346806</td>\n",
       "      <td>0.319711</td>\n",
       "      <td>-0.074378</td>\n",
       "      <td>0.069434</td>\n",
       "      <td>1.000000</td>\n",
       "      <td>-0.388449</td>\n",
       "      <td>0.000122</td>\n",
       "      <td>-0.324507</td>\n",
       "      <td>-0.153198</td>\n",
       "    </tr>\n",
       "    <tr>\n",
       "      <th>pH</th>\n",
       "      <td>0.016261</td>\n",
       "      <td>-0.696062</td>\n",
       "      <td>0.246769</td>\n",
       "      <td>-0.558444</td>\n",
       "      <td>-0.177625</td>\n",
       "      <td>-0.168089</td>\n",
       "      <td>0.146622</td>\n",
       "      <td>0.054240</td>\n",
       "      <td>-0.388449</td>\n",
       "      <td>1.000000</td>\n",
       "      <td>-0.038829</td>\n",
       "      <td>0.127625</td>\n",
       "      <td>0.016378</td>\n",
       "    </tr>\n",
       "    <tr>\n",
       "      <th>sulphates</th>\n",
       "      <td>0.012040</td>\n",
       "      <td>0.143833</td>\n",
       "      <td>-0.361836</td>\n",
       "      <td>0.276540</td>\n",
       "      <td>0.024141</td>\n",
       "      <td>0.012908</td>\n",
       "      <td>-0.046795</td>\n",
       "      <td>-0.136596</td>\n",
       "      <td>0.000122</td>\n",
       "      <td>-0.038829</td>\n",
       "      <td>1.000000</td>\n",
       "      <td>0.265012</td>\n",
       "      <td>0.395046</td>\n",
       "    </tr>\n",
       "    <tr>\n",
       "      <th>alcohol</th>\n",
       "      <td>0.000517</td>\n",
       "      <td>-0.038549</td>\n",
       "      <td>-0.222926</td>\n",
       "      <td>0.072221</td>\n",
       "      <td>0.023868</td>\n",
       "      <td>-0.204425</td>\n",
       "      <td>-0.131432</td>\n",
       "      <td>-0.312575</td>\n",
       "      <td>-0.324507</td>\n",
       "      <td>0.127625</td>\n",
       "      <td>0.265012</td>\n",
       "      <td>1.000000</td>\n",
       "      <td>0.468875</td>\n",
       "    </tr>\n",
       "    <tr>\n",
       "      <th>quality</th>\n",
       "      <td>0.025684</td>\n",
       "      <td>0.065921</td>\n",
       "      <td>-0.226043</td>\n",
       "      <td>0.141797</td>\n",
       "      <td>0.031020</td>\n",
       "      <td>-0.057792</td>\n",
       "      <td>-0.061303</td>\n",
       "      <td>-0.199719</td>\n",
       "      <td>-0.153198</td>\n",
       "      <td>0.016378</td>\n",
       "      <td>0.395046</td>\n",
       "      <td>0.468875</td>\n",
       "      <td>1.000000</td>\n",
       "    </tr>\n",
       "  </tbody>\n",
       "</table>\n",
       "</div>"
      ],
      "text/plain": [
       "                            Id  fixed acidity  volatile acidity  citric acid  \\\n",
       "Id                    1.000000      -0.021168         -0.023272     0.010262   \n",
       "fixed acidity        -0.021168       1.000000         -0.329939     0.698346   \n",
       "volatile acidity     -0.023272      -0.329939          1.000000    -0.594184   \n",
       "citric acid           0.010262       0.698346         -0.594184     1.000000   \n",
       "residual sugar       -0.016102       0.298606         -0.075364     0.191672   \n",
       "chlorides            -0.004012       0.222004          0.060483     0.155228   \n",
       "free sulfur dioxide   0.024568      -0.241479          0.082005    -0.208988   \n",
       "total sulfur dioxide -0.000944      -0.156772          0.129389    -0.134404   \n",
       "density              -0.022799       0.611695         -0.072184     0.376759   \n",
       "pH                    0.016261      -0.696062          0.246769    -0.558444   \n",
       "sulphates             0.012040       0.143833         -0.361836     0.276540   \n",
       "alcohol               0.000517      -0.038549         -0.222926     0.072221   \n",
       "quality               0.025684       0.065921         -0.226043     0.141797   \n",
       "\n",
       "                      residual sugar  chlorides  free sulfur dioxide  \\\n",
       "Id                         -0.016102  -0.004012             0.024568   \n",
       "fixed acidity               0.298606   0.222004            -0.241479   \n",
       "volatile acidity           -0.075364   0.060483             0.082005   \n",
       "citric acid                 0.191672   0.155228            -0.208988   \n",
       "residual sugar              1.000000   0.157410            -0.051490   \n",
       "chlorides                   0.157410   1.000000            -0.027467   \n",
       "free sulfur dioxide        -0.051490  -0.027467             1.000000   \n",
       "total sulfur dioxide        0.007783   0.043546             0.769911   \n",
       "density                     0.346806   0.319711            -0.074378   \n",
       "pH                         -0.177625  -0.168089             0.146622   \n",
       "sulphates                   0.024141   0.012908            -0.046795   \n",
       "alcohol                     0.023868  -0.204425            -0.131432   \n",
       "quality                     0.031020  -0.057792            -0.061303   \n",
       "\n",
       "                      total sulfur dioxide   density        pH  sulphates  \\\n",
       "Id                               -0.000944 -0.022799  0.016261   0.012040   \n",
       "fixed acidity                    -0.156772  0.611695 -0.696062   0.143833   \n",
       "volatile acidity                  0.129389 -0.072184  0.246769  -0.361836   \n",
       "citric acid                      -0.134404  0.376759 -0.558444   0.276540   \n",
       "residual sugar                    0.007783  0.346806 -0.177625   0.024141   \n",
       "chlorides                         0.043546  0.319711 -0.168089   0.012908   \n",
       "free sulfur dioxide               0.769911 -0.074378  0.146622  -0.046795   \n",
       "total sulfur dioxide              1.000000  0.069434  0.054240  -0.136596   \n",
       "density                           0.069434  1.000000 -0.388449   0.000122   \n",
       "pH                                0.054240 -0.388449  1.000000  -0.038829   \n",
       "sulphates                        -0.136596  0.000122 -0.038829   1.000000   \n",
       "alcohol                          -0.312575 -0.324507  0.127625   0.265012   \n",
       "quality                          -0.199719 -0.153198  0.016378   0.395046   \n",
       "\n",
       "                       alcohol   quality  \n",
       "Id                    0.000517  0.025684  \n",
       "fixed acidity        -0.038549  0.065921  \n",
       "volatile acidity     -0.222926 -0.226043  \n",
       "citric acid           0.072221  0.141797  \n",
       "residual sugar        0.023868  0.031020  \n",
       "chlorides            -0.204425 -0.057792  \n",
       "free sulfur dioxide  -0.131432 -0.061303  \n",
       "total sulfur dioxide -0.312575 -0.199719  \n",
       "density              -0.324507 -0.153198  \n",
       "pH                    0.127625  0.016378  \n",
       "sulphates             0.265012  0.395046  \n",
       "alcohol               1.000000  0.468875  \n",
       "quality               0.468875  1.000000  "
      ]
     },
     "execution_count": 47,
     "metadata": {},
     "output_type": "execute_result"
    }
   ],
   "source": [
    "correlation = df_train.corr()\n",
    "correlation"
   ]
  },
  {
   "cell_type": "code",
   "execution_count": 48,
   "id": "2216ec7c",
   "metadata": {
    "execution": {
     "iopub.execute_input": "2023-02-04T12:17:46.810389Z",
     "iopub.status.busy": "2023-02-04T12:17:46.809637Z",
     "iopub.status.idle": "2023-02-04T12:17:48.154422Z",
     "shell.execute_reply": "2023-02-04T12:17:48.153144Z"
    },
    "papermill": {
     "duration": 1.369671,
     "end_time": "2023-02-04T12:17:48.157431",
     "exception": false,
     "start_time": "2023-02-04T12:17:46.787760",
     "status": "completed"
    },
    "tags": []
   },
   "outputs": [
    {
     "data": {
      "image/png": "[encoded data removed]",
      "text/plain": [
       "<Figure size 936x936 with 2 Axes>"
      ]
     },
     "metadata": {
      "needs_background": "light"
     },
     "output_type": "display_data"
    }
   ],
   "source": [
    "plt.figure(figsize=(13,13))\n",
    "sns.heatmap(correlation,annot=True,cmap=\"Blues\",linewidths=0.2)\n",
    "plt.show()"
   ]
  },
  {
   "cell_type": "markdown",
   "id": "7eb69393",
   "metadata": {
    "papermill": {
     "duration": 0.027393,
     "end_time": "2023-02-04T12:17:48.208111",
     "exception": false,
     "start_time": "2023-02-04T12:17:48.180718",
     "status": "completed"
    },
    "tags": []
   },
   "source": [
    "***Correlation (Test)***"
   ]
  },
  {
   "cell_type": "code",
   "execution_count": 49,
   "id": "15edbaa4",
   "metadata": {
    "execution": {
     "iopub.execute_input": "2023-02-04T12:17:48.255852Z",
     "iopub.status.busy": "2023-02-04T12:17:48.255006Z",
     "iopub.status.idle": "2023-02-04T12:17:48.277817Z",
     "shell.execute_reply": "2023-02-04T12:17:48.276892Z"
    },
    "papermill": {
     "duration": 0.049356,
     "end_time": "2023-02-04T12:17:48.280089",
     "exception": false,
     "start_time": "2023-02-04T12:17:48.230733",
     "status": "completed"
    },
    "tags": []
   },
   "outputs": [
    {
     "data": {
      "text/html": [
       "<div>\n",
       "<style scoped>\n",
       "    .dataframe tbody tr th:only-of-type {\n",
       "        vertical-align: middle;\n",
       "    }\n",
       "\n",
       "    .dataframe tbody tr th {\n",
       "        vertical-align: top;\n",
       "    }\n",
       "\n",
       "    .dataframe thead th {\n",
       "        text-align: right;\n",
       "    }\n",
       "</style>\n",
       "<table border=\"1\" class=\"dataframe\">\n",
       "  <thead>\n",
       "    <tr style=\"text-align: right;\">\n",
       "      <th></th>\n",
       "      <th>Id</th>\n",
       "      <th>fixed acidity</th>\n",
       "      <th>volatile acidity</th>\n",
       "      <th>citric acid</th>\n",
       "      <th>residual sugar</th>\n",
       "      <th>chlorides</th>\n",
       "      <th>free sulfur dioxide</th>\n",
       "      <th>total sulfur dioxide</th>\n",
       "      <th>density</th>\n",
       "      <th>pH</th>\n",
       "      <th>sulphates</th>\n",
       "      <th>alcohol</th>\n",
       "    </tr>\n",
       "  </thead>\n",
       "  <tbody>\n",
       "    <tr>\n",
       "      <th>Id</th>\n",
       "      <td>1.000000</td>\n",
       "      <td>0.012975</td>\n",
       "      <td>0.057115</td>\n",
       "      <td>-0.016568</td>\n",
       "      <td>0.025718</td>\n",
       "      <td>0.008605</td>\n",
       "      <td>0.017491</td>\n",
       "      <td>-0.003178</td>\n",
       "      <td>-0.004972</td>\n",
       "      <td>0.034436</td>\n",
       "      <td>-0.014864</td>\n",
       "      <td>0.003299</td>\n",
       "    </tr>\n",
       "    <tr>\n",
       "      <th>fixed acidity</th>\n",
       "      <td>0.012975</td>\n",
       "      <td>1.000000</td>\n",
       "      <td>-0.341535</td>\n",
       "      <td>0.700071</td>\n",
       "      <td>0.289323</td>\n",
       "      <td>0.236956</td>\n",
       "      <td>-0.233513</td>\n",
       "      <td>-0.142754</td>\n",
       "      <td>0.590213</td>\n",
       "      <td>-0.644967</td>\n",
       "      <td>0.158820</td>\n",
       "      <td>-0.033634</td>\n",
       "    </tr>\n",
       "    <tr>\n",
       "      <th>volatile acidity</th>\n",
       "      <td>0.057115</td>\n",
       "      <td>-0.341535</td>\n",
       "      <td>1.000000</td>\n",
       "      <td>-0.615574</td>\n",
       "      <td>-0.094034</td>\n",
       "      <td>0.082086</td>\n",
       "      <td>0.086711</td>\n",
       "      <td>0.116494</td>\n",
       "      <td>-0.079071</td>\n",
       "      <td>0.291053</td>\n",
       "      <td>-0.366331</td>\n",
       "      <td>-0.256683</td>\n",
       "    </tr>\n",
       "    <tr>\n",
       "      <th>citric acid</th>\n",
       "      <td>-0.016568</td>\n",
       "      <td>0.700071</td>\n",
       "      <td>-0.615574</td>\n",
       "      <td>1.000000</td>\n",
       "      <td>0.218042</td>\n",
       "      <td>0.161146</td>\n",
       "      <td>-0.196322</td>\n",
       "      <td>-0.125881</td>\n",
       "      <td>0.383835</td>\n",
       "      <td>-0.539803</td>\n",
       "      <td>0.317022</td>\n",
       "      <td>0.111193</td>\n",
       "    </tr>\n",
       "    <tr>\n",
       "      <th>residual sugar</th>\n",
       "      <td>0.025718</td>\n",
       "      <td>0.289323</td>\n",
       "      <td>-0.094034</td>\n",
       "      <td>0.218042</td>\n",
       "      <td>1.000000</td>\n",
       "      <td>0.144853</td>\n",
       "      <td>-0.041438</td>\n",
       "      <td>-0.016274</td>\n",
       "      <td>0.279365</td>\n",
       "      <td>-0.150572</td>\n",
       "      <td>0.053518</td>\n",
       "      <td>0.065051</td>\n",
       "    </tr>\n",
       "    <tr>\n",
       "      <th>chlorides</th>\n",
       "      <td>0.008605</td>\n",
       "      <td>0.236956</td>\n",
       "      <td>0.082086</td>\n",
       "      <td>0.161146</td>\n",
       "      <td>0.144853</td>\n",
       "      <td>1.000000</td>\n",
       "      <td>-0.019748</td>\n",
       "      <td>0.047327</td>\n",
       "      <td>0.373062</td>\n",
       "      <td>-0.139924</td>\n",
       "      <td>0.033419</td>\n",
       "      <td>-0.215233</td>\n",
       "    </tr>\n",
       "    <tr>\n",
       "      <th>free sulfur dioxide</th>\n",
       "      <td>0.017491</td>\n",
       "      <td>-0.233513</td>\n",
       "      <td>0.086711</td>\n",
       "      <td>-0.196322</td>\n",
       "      <td>-0.041438</td>\n",
       "      <td>-0.019748</td>\n",
       "      <td>1.000000</td>\n",
       "      <td>0.752288</td>\n",
       "      <td>-0.058893</td>\n",
       "      <td>0.123525</td>\n",
       "      <td>-0.106279</td>\n",
       "      <td>-0.156230</td>\n",
       "    </tr>\n",
       "    <tr>\n",
       "      <th>total sulfur dioxide</th>\n",
       "      <td>-0.003178</td>\n",
       "      <td>-0.142754</td>\n",
       "      <td>0.116494</td>\n",
       "      <td>-0.125881</td>\n",
       "      <td>-0.016274</td>\n",
       "      <td>0.047327</td>\n",
       "      <td>0.752288</td>\n",
       "      <td>1.000000</td>\n",
       "      <td>0.107375</td>\n",
       "      <td>0.019064</td>\n",
       "      <td>-0.172363</td>\n",
       "      <td>-0.344374</td>\n",
       "    </tr>\n",
       "    <tr>\n",
       "      <th>density</th>\n",
       "      <td>-0.004972</td>\n",
       "      <td>0.590213</td>\n",
       "      <td>-0.079071</td>\n",
       "      <td>0.383835</td>\n",
       "      <td>0.279365</td>\n",
       "      <td>0.373062</td>\n",
       "      <td>-0.058893</td>\n",
       "      <td>0.107375</td>\n",
       "      <td>1.000000</td>\n",
       "      <td>-0.351868</td>\n",
       "      <td>-0.000136</td>\n",
       "      <td>-0.362206</td>\n",
       "    </tr>\n",
       "    <tr>\n",
       "      <th>pH</th>\n",
       "      <td>0.034436</td>\n",
       "      <td>-0.644967</td>\n",
       "      <td>0.291053</td>\n",
       "      <td>-0.539803</td>\n",
       "      <td>-0.150572</td>\n",
       "      <td>-0.139924</td>\n",
       "      <td>0.123525</td>\n",
       "      <td>0.019064</td>\n",
       "      <td>-0.351868</td>\n",
       "      <td>1.000000</td>\n",
       "      <td>-0.070222</td>\n",
       "      <td>0.090427</td>\n",
       "    </tr>\n",
       "    <tr>\n",
       "      <th>sulphates</th>\n",
       "      <td>-0.014864</td>\n",
       "      <td>0.158820</td>\n",
       "      <td>-0.366331</td>\n",
       "      <td>0.317022</td>\n",
       "      <td>0.053518</td>\n",
       "      <td>0.033419</td>\n",
       "      <td>-0.106279</td>\n",
       "      <td>-0.172363</td>\n",
       "      <td>-0.000136</td>\n",
       "      <td>-0.070222</td>\n",
       "      <td>1.000000</td>\n",
       "      <td>0.271063</td>\n",
       "    </tr>\n",
       "    <tr>\n",
       "      <th>alcohol</th>\n",
       "      <td>0.003299</td>\n",
       "      <td>-0.033634</td>\n",
       "      <td>-0.256683</td>\n",
       "      <td>0.111193</td>\n",
       "      <td>0.065051</td>\n",
       "      <td>-0.215233</td>\n",
       "      <td>-0.156230</td>\n",
       "      <td>-0.344374</td>\n",
       "      <td>-0.362206</td>\n",
       "      <td>0.090427</td>\n",
       "      <td>0.271063</td>\n",
       "      <td>1.000000</td>\n",
       "    </tr>\n",
       "  </tbody>\n",
       "</table>\n",
       "</div>"
      ],
      "text/plain": [
       "                            Id  fixed acidity  volatile acidity  citric acid  \\\n",
       "Id                    1.000000       0.012975          0.057115    -0.016568   \n",
       "fixed acidity         0.012975       1.000000         -0.341535     0.700071   \n",
       "volatile acidity      0.057115      -0.341535          1.000000    -0.615574   \n",
       "citric acid          -0.016568       0.700071         -0.615574     1.000000   \n",
       "residual sugar        0.025718       0.289323         -0.094034     0.218042   \n",
       "chlorides             0.008605       0.236956          0.082086     0.161146   \n",
       "free sulfur dioxide   0.017491      -0.233513          0.086711    -0.196322   \n",
       "total sulfur dioxide -0.003178      -0.142754          0.116494    -0.125881   \n",
       "density              -0.004972       0.590213         -0.079071     0.383835   \n",
       "pH                    0.034436      -0.644967          0.291053    -0.539803   \n",
       "sulphates            -0.014864       0.158820         -0.366331     0.317022   \n",
       "alcohol               0.003299      -0.033634         -0.256683     0.111193   \n",
       "\n",
       "                      residual sugar  chlorides  free sulfur dioxide  \\\n",
       "Id                          0.025718   0.008605             0.017491   \n",
       "fixed acidity               0.289323   0.236956            -0.233513   \n",
       "volatile acidity           -0.094034   0.082086             0.086711   \n",
       "citric acid                 0.218042   0.161146            -0.196322   \n",
       "residual sugar              1.000000   0.144853            -0.041438   \n",
       "chlorides                   0.144853   1.000000            -0.019748   \n",
       "free sulfur dioxide        -0.041438  -0.019748             1.000000   \n",
       "total sulfur dioxide       -0.016274   0.047327             0.752288   \n",
       "density                     0.279365   0.373062            -0.058893   \n",
       "pH                         -0.150572  -0.139924             0.123525   \n",
       "sulphates                   0.053518   0.033419            -0.106279   \n",
       "alcohol                     0.065051  -0.215233            -0.156230   \n",
       "\n",
       "                      total sulfur dioxide   density        pH  sulphates  \\\n",
       "Id                               -0.003178 -0.004972  0.034436  -0.014864   \n",
       "fixed acidity                    -0.142754  0.590213 -0.644967   0.158820   \n",
       "volatile acidity                  0.116494 -0.079071  0.291053  -0.366331   \n",
       "citric acid                      -0.125881  0.383835 -0.539803   0.317022   \n",
       "residual sugar                   -0.016274  0.279365 -0.150572   0.053518   \n",
       "chlorides                         0.047327  0.373062 -0.139924   0.033419   \n",
       "free sulfur dioxide               0.752288 -0.058893  0.123525  -0.106279   \n",
       "total sulfur dioxide              1.000000  0.107375  0.019064  -0.172363   \n",
       "density                           0.107375  1.000000 -0.351868  -0.000136   \n",
       "pH                                0.019064 -0.351868  1.000000  -0.070222   \n",
       "sulphates                        -0.172363 -0.000136 -0.070222   1.000000   \n",
       "alcohol                          -0.344374 -0.362206  0.090427   0.271063   \n",
       "\n",
       "                       alcohol  \n",
       "Id                    0.003299  \n",
       "fixed acidity        -0.033634  \n",
       "volatile acidity     -0.256683  \n",
       "citric acid           0.111193  \n",
       "residual sugar        0.065051  \n",
       "chlorides            -0.215233  \n",
       "free sulfur dioxide  -0.156230  \n",
       "total sulfur dioxide -0.344374  \n",
       "density              -0.362206  \n",
       "pH                    0.090427  \n",
       "sulphates             0.271063  \n",
       "alcohol               1.000000  "
      ]
     },
     "execution_count": 49,
     "metadata": {},
     "output_type": "execute_result"
    }
   ],
   "source": [
    "correlation = df_test.corr()\n",
    "correlation"
   ]
  },
  {
   "cell_type": "code",
   "execution_count": 50,
   "id": "bdc4310f",
   "metadata": {
    "execution": {
     "iopub.execute_input": "2023-02-04T12:17:48.328016Z",
     "iopub.status.busy": "2023-02-04T12:17:48.327154Z",
     "iopub.status.idle": "2023-02-04T12:17:49.339619Z",
     "shell.execute_reply": "2023-02-04T12:17:49.338724Z"
    },
    "papermill": {
     "duration": 1.039872,
     "end_time": "2023-02-04T12:17:49.342627",
     "exception": false,
     "start_time": "2023-02-04T12:17:48.302755",
     "status": "completed"
    },
    "tags": []
   },
   "outputs": [
    {
     "data": {
      "image/png": "[encoded data removed]",
      "text/plain": [
       "<Figure size 936x936 with 2 Axes>"
      ]
     },
     "metadata": {
      "needs_background": "light"
     },
     "output_type": "display_data"
    }
   ],
   "source": [
    "plt.figure(figsize=(13,13))\n",
    "sns.heatmap(correlation,annot=True,cmap=\"Blues\",linewidths=0.2)\n",
    "plt.show()"
   ]
  },
  {
   "cell_type": "markdown",
   "id": "6dfdb900",
   "metadata": {
    "papermill": {
     "duration": 0.025739,
     "end_time": "2023-02-04T12:17:49.392816",
     "exception": false,
     "start_time": "2023-02-04T12:17:49.367077",
     "status": "completed"
    },
    "tags": []
   },
   "source": [
    "***Splitting X_train, y_train***"
   ]
  },
  {
   "cell_type": "code",
   "execution_count": 51,
   "id": "e71401f0",
   "metadata": {
    "execution": {
     "iopub.execute_input": "2023-02-04T12:17:49.446917Z",
     "iopub.status.busy": "2023-02-04T12:17:49.445933Z",
     "iopub.status.idle": "2023-02-04T12:17:49.453944Z",
     "shell.execute_reply": "2023-02-04T12:17:49.451118Z"
    },
    "papermill": {
     "duration": 0.037595,
     "end_time": "2023-02-04T12:17:49.456499",
     "exception": false,
     "start_time": "2023-02-04T12:17:49.418904",
     "status": "completed"
    },
    "tags": []
   },
   "outputs": [],
   "source": [
    "X_train = df_train.iloc[:,0:12]\n",
    "y_train = df_train.quality"
   ]
  },
  {
   "cell_type": "code",
   "execution_count": 52,
   "id": "e489ea35",
   "metadata": {
    "execution": {
     "iopub.execute_input": "2023-02-04T12:17:49.508368Z",
     "iopub.status.busy": "2023-02-04T12:17:49.507949Z",
     "iopub.status.idle": "2023-02-04T12:17:49.525622Z",
     "shell.execute_reply": "2023-02-04T12:17:49.524668Z"
    },
    "papermill": {
     "duration": 0.046033,
     "end_time": "2023-02-04T12:17:49.528475",
     "exception": false,
     "start_time": "2023-02-04T12:17:49.482442",
     "status": "completed"
    },
    "tags": []
   },
   "outputs": [
    {
     "data": {
      "text/html": [
       "<div>\n",
       "<style scoped>\n",
       "    .dataframe tbody tr th:only-of-type {\n",
       "        vertical-align: middle;\n",
       "    }\n",
       "\n",
       "    .dataframe tbody tr th {\n",
       "        vertical-align: top;\n",
       "    }\n",
       "\n",
       "    .dataframe thead th {\n",
       "        text-align: right;\n",
       "    }\n",
       "</style>\n",
       "<table border=\"1\" class=\"dataframe\">\n",
       "  <thead>\n",
       "    <tr style=\"text-align: right;\">\n",
       "      <th></th>\n",
       "      <th>Id</th>\n",
       "      <th>fixed acidity</th>\n",
       "      <th>volatile acidity</th>\n",
       "      <th>citric acid</th>\n",
       "      <th>residual sugar</th>\n",
       "      <th>chlorides</th>\n",
       "      <th>free sulfur dioxide</th>\n",
       "      <th>total sulfur dioxide</th>\n",
       "      <th>density</th>\n",
       "      <th>pH</th>\n",
       "      <th>sulphates</th>\n",
       "      <th>alcohol</th>\n",
       "    </tr>\n",
       "  </thead>\n",
       "  <tbody>\n",
       "    <tr>\n",
       "      <th>0</th>\n",
       "      <td>0</td>\n",
       "      <td>2.079442</td>\n",
       "      <td>0.707107</td>\n",
       "      <td>0.39</td>\n",
       "      <td>2.2</td>\n",
       "      <td>-2.617296</td>\n",
       "      <td>3.401197</td>\n",
       "      <td>39.0</td>\n",
       "      <td>0.99572</td>\n",
       "      <td>3.33</td>\n",
       "      <td>-0.261365</td>\n",
       "      <td>11.0</td>\n",
       "    </tr>\n",
       "    <tr>\n",
       "      <th>1</th>\n",
       "      <td>1</td>\n",
       "      <td>2.230014</td>\n",
       "      <td>0.547723</td>\n",
       "      <td>0.73</td>\n",
       "      <td>2.3</td>\n",
       "      <td>-2.385967</td>\n",
       "      <td>3.401197</td>\n",
       "      <td>65.0</td>\n",
       "      <td>0.99854</td>\n",
       "      <td>3.32</td>\n",
       "      <td>-0.400478</td>\n",
       "      <td>11.0</td>\n",
       "    </tr>\n",
       "  </tbody>\n",
       "</table>\n",
       "</div>"
      ],
      "text/plain": [
       "   Id  fixed acidity  volatile acidity  citric acid  residual sugar  \\\n",
       "0   0       2.079442          0.707107         0.39             2.2   \n",
       "1   1       2.230014          0.547723         0.73             2.3   \n",
       "\n",
       "   chlorides  free sulfur dioxide  total sulfur dioxide  density    pH  \\\n",
       "0  -2.617296             3.401197                  39.0  0.99572  3.33   \n",
       "1  -2.385967             3.401197                  65.0  0.99854  3.32   \n",
       "\n",
       "   sulphates  alcohol  \n",
       "0  -0.261365     11.0  \n",
       "1  -0.400478     11.0  "
      ]
     },
     "execution_count": 52,
     "metadata": {},
     "output_type": "execute_result"
    }
   ],
   "source": [
    "X_train.head(2)"
   ]
  },
  {
   "cell_type": "code",
   "execution_count": 53,
   "id": "1e8fd8b0",
   "metadata": {
    "execution": {
     "iopub.execute_input": "2023-02-04T12:17:49.580336Z",
     "iopub.status.busy": "2023-02-04T12:17:49.579127Z",
     "iopub.status.idle": "2023-02-04T12:17:49.586708Z",
     "shell.execute_reply": "2023-02-04T12:17:49.585756Z"
    },
    "papermill": {
     "duration": 0.036538,
     "end_time": "2023-02-04T12:17:49.589244",
     "exception": false,
     "start_time": "2023-02-04T12:17:49.552706",
     "status": "completed"
    },
    "tags": []
   },
   "outputs": [
    {
     "data": {
      "text/plain": [
       "0    6\n",
       "1    6\n",
       "Name: quality, dtype: int64"
      ]
     },
     "execution_count": 53,
     "metadata": {},
     "output_type": "execute_result"
    }
   ],
   "source": [
    "y_train.head(2)"
   ]
  },
  {
   "cell_type": "code",
   "execution_count": 54,
   "id": "b3f5927a",
   "metadata": {
    "execution": {
     "iopub.execute_input": "2023-02-04T12:17:49.641251Z",
     "iopub.status.busy": "2023-02-04T12:17:49.640803Z",
     "iopub.status.idle": "2023-02-04T12:17:49.645996Z",
     "shell.execute_reply": "2023-02-04T12:17:49.644893Z"
    },
    "papermill": {
     "duration": 0.034379,
     "end_time": "2023-02-04T12:17:49.648642",
     "exception": false,
     "start_time": "2023-02-04T12:17:49.614263",
     "status": "completed"
    },
    "tags": []
   },
   "outputs": [],
   "source": [
    "X_test = df_test.iloc[:,:]"
   ]
  },
  {
   "cell_type": "code",
   "execution_count": 55,
   "id": "7144a8a3",
   "metadata": {
    "execution": {
     "iopub.execute_input": "2023-02-04T12:17:49.700415Z",
     "iopub.status.busy": "2023-02-04T12:17:49.699678Z",
     "iopub.status.idle": "2023-02-04T12:17:49.718883Z",
     "shell.execute_reply": "2023-02-04T12:17:49.717624Z"
    },
    "papermill": {
     "duration": 0.048045,
     "end_time": "2023-02-04T12:17:49.721604",
     "exception": false,
     "start_time": "2023-02-04T12:17:49.673559",
     "status": "completed"
    },
    "tags": []
   },
   "outputs": [
    {
     "data": {
      "text/html": [
       "<div>\n",
       "<style scoped>\n",
       "    .dataframe tbody tr th:only-of-type {\n",
       "        vertical-align: middle;\n",
       "    }\n",
       "\n",
       "    .dataframe tbody tr th {\n",
       "        vertical-align: top;\n",
       "    }\n",
       "\n",
       "    .dataframe thead th {\n",
       "        text-align: right;\n",
       "    }\n",
       "</style>\n",
       "<table border=\"1\" class=\"dataframe\">\n",
       "  <thead>\n",
       "    <tr style=\"text-align: right;\">\n",
       "      <th></th>\n",
       "      <th>Id</th>\n",
       "      <th>fixed acidity</th>\n",
       "      <th>volatile acidity</th>\n",
       "      <th>citric acid</th>\n",
       "      <th>residual sugar</th>\n",
       "      <th>chlorides</th>\n",
       "      <th>free sulfur dioxide</th>\n",
       "      <th>total sulfur dioxide</th>\n",
       "      <th>density</th>\n",
       "      <th>pH</th>\n",
       "      <th>sulphates</th>\n",
       "      <th>alcohol</th>\n",
       "    </tr>\n",
       "  </thead>\n",
       "  <tbody>\n",
       "    <tr>\n",
       "      <th>0</th>\n",
       "      <td>2056</td>\n",
       "      <td>1.974081</td>\n",
       "      <td>0.714143</td>\n",
       "      <td>0.01</td>\n",
       "      <td>2.0</td>\n",
       "      <td>-2.563950</td>\n",
       "      <td>5.567764</td>\n",
       "      <td>54.0</td>\n",
       "      <td>0.99748</td>\n",
       "      <td>3.39</td>\n",
       "      <td>-0.527633</td>\n",
       "      <td>9.8</td>\n",
       "    </tr>\n",
       "    <tr>\n",
       "      <th>1</th>\n",
       "      <td>2057</td>\n",
       "      <td>1.974081</td>\n",
       "      <td>0.868907</td>\n",
       "      <td>0.15</td>\n",
       "      <td>2.0</td>\n",
       "      <td>-2.282782</td>\n",
       "      <td>3.741657</td>\n",
       "      <td>35.0</td>\n",
       "      <td>0.99586</td>\n",
       "      <td>3.33</td>\n",
       "      <td>-0.385662</td>\n",
       "      <td>10.0</td>\n",
       "    </tr>\n",
       "  </tbody>\n",
       "</table>\n",
       "</div>"
      ],
      "text/plain": [
       "     Id  fixed acidity  volatile acidity  citric acid  residual sugar  \\\n",
       "0  2056       1.974081          0.714143         0.01             2.0   \n",
       "1  2057       1.974081          0.868907         0.15             2.0   \n",
       "\n",
       "   chlorides  free sulfur dioxide  total sulfur dioxide  density    pH  \\\n",
       "0  -2.563950             5.567764                  54.0  0.99748  3.39   \n",
       "1  -2.282782             3.741657                  35.0  0.99586  3.33   \n",
       "\n",
       "   sulphates  alcohol  \n",
       "0  -0.527633      9.8  \n",
       "1  -0.385662     10.0  "
      ]
     },
     "execution_count": 55,
     "metadata": {},
     "output_type": "execute_result"
    }
   ],
   "source": [
    "X_test.head(2)"
   ]
  },
  {
   "cell_type": "markdown",
   "id": "28339a5d",
   "metadata": {
    "papermill": {
     "duration": 0.025602,
     "end_time": "2023-02-04T12:17:49.773785",
     "exception": false,
     "start_time": "2023-02-04T12:17:49.748183",
     "status": "completed"
    },
    "tags": []
   },
   "source": [
    "***MODELLING***"
   ]
  },
  {
   "cell_type": "code",
   "execution_count": 56,
   "id": "9ab5a732",
   "metadata": {
    "execution": {
     "iopub.execute_input": "2023-02-04T12:17:49.826170Z",
     "iopub.status.busy": "2023-02-04T12:17:49.825705Z",
     "iopub.status.idle": "2023-02-04T12:17:51.927194Z",
     "shell.execute_reply": "2023-02-04T12:17:51.924363Z"
    },
    "papermill": {
     "duration": 2.134768,
     "end_time": "2023-02-04T12:17:51.933805",
     "exception": false,
     "start_time": "2023-02-04T12:17:49.799037",
     "status": "completed"
    },
    "tags": []
   },
   "outputs": [
    {
     "data": {
      "text/plain": [
       "array([5.57149025, 6.21414134, 5.55404906, ..., 5.39210493, 5.48558315,\n",
       "       6.02684143])"
      ]
     },
     "execution_count": 56,
     "metadata": {},
     "output_type": "execute_result"
    }
   ],
   "source": [
    "from sklearn.ensemble import GradientBoostingRegressor\n",
    "reg1 = GradientBoostingRegressor(random_state=1)\n",
    "\n",
    "from sklearn.ensemble import RandomForestRegressor\n",
    "reg2 = RandomForestRegressor(random_state=1)\n",
    "\n",
    "from sklearn.linear_model import LinearRegression\n",
    "reg3 = LinearRegression()\n",
    "\n",
    "from sklearn.ensemble import VotingRegressor\n",
    "regressor = VotingRegressor(estimators=[('gb', reg1), ('rf', reg2), ('lir', reg3)])\n",
    "\n",
    "regressor.fit(X_train, y_train)\n",
    "prediction = regressor.predict(X_test)\n",
    "prediction"
   ]
  },
  {
   "cell_type": "code",
   "execution_count": 57,
   "id": "2b55ca3e",
   "metadata": {
    "execution": {
     "iopub.execute_input": "2023-02-04T12:17:52.045563Z",
     "iopub.status.busy": "2023-02-04T12:17:52.045180Z",
     "iopub.status.idle": "2023-02-04T12:17:52.057851Z",
     "shell.execute_reply": "2023-02-04T12:17:52.056574Z"
    },
    "papermill": {
     "duration": 0.044507,
     "end_time": "2023-02-04T12:17:52.060279",
     "exception": false,
     "start_time": "2023-02-04T12:17:52.015772",
     "status": "completed"
    },
    "tags": []
   },
   "outputs": [
    {
     "data": {
      "text/html": [
       "<div>\n",
       "<style scoped>\n",
       "    .dataframe tbody tr th:only-of-type {\n",
       "        vertical-align: middle;\n",
       "    }\n",
       "\n",
       "    .dataframe tbody tr th {\n",
       "        vertical-align: top;\n",
       "    }\n",
       "\n",
       "    .dataframe thead th {\n",
       "        text-align: right;\n",
       "    }\n",
       "</style>\n",
       "<table border=\"1\" class=\"dataframe\">\n",
       "  <thead>\n",
       "    <tr style=\"text-align: right;\">\n",
       "      <th></th>\n",
       "      <th>Id</th>\n",
       "      <th>quality</th>\n",
       "    </tr>\n",
       "  </thead>\n",
       "  <tbody>\n",
       "    <tr>\n",
       "      <th>0</th>\n",
       "      <td>2056</td>\n",
       "      <td>5.571490</td>\n",
       "    </tr>\n",
       "    <tr>\n",
       "      <th>1</th>\n",
       "      <td>2057</td>\n",
       "      <td>6.214141</td>\n",
       "    </tr>\n",
       "    <tr>\n",
       "      <th>2</th>\n",
       "      <td>2058</td>\n",
       "      <td>5.554049</td>\n",
       "    </tr>\n",
       "    <tr>\n",
       "      <th>3</th>\n",
       "      <td>2059</td>\n",
       "      <td>6.456950</td>\n",
       "    </tr>\n",
       "    <tr>\n",
       "      <th>4</th>\n",
       "      <td>2060</td>\n",
       "      <td>5.463296</td>\n",
       "    </tr>\n",
       "  </tbody>\n",
       "</table>\n",
       "</div>"
      ],
      "text/plain": [
       "     Id   quality\n",
       "0  2056  5.571490\n",
       "1  2057  6.214141\n",
       "2  2058  5.554049\n",
       "3  2059  6.456950\n",
       "4  2060  5.463296"
      ]
     },
     "execution_count": 57,
     "metadata": {},
     "output_type": "execute_result"
    }
   ],
   "source": [
    "submission = pd.DataFrame({'Id': df_test.Id, 'quality': prediction})\n",
    "submission.head()"
   ]
  },
  {
   "cell_type": "code",
   "execution_count": 58,
   "id": "166a81eb",
   "metadata": {
    "execution": {
     "iopub.execute_input": "2023-02-04T12:17:52.113165Z",
     "iopub.status.busy": "2023-02-04T12:17:52.112659Z",
     "iopub.status.idle": "2023-02-04T12:17:52.125050Z",
     "shell.execute_reply": "2023-02-04T12:17:52.123781Z"
    },
    "papermill": {
     "duration": 0.042145,
     "end_time": "2023-02-04T12:17:52.128048",
     "exception": false,
     "start_time": "2023-02-04T12:17:52.085903",
     "status": "completed"
    },
    "tags": []
   },
   "outputs": [],
   "source": [
    "submission.to_csv('submission.csv', index=False)"
   ]
  }
 ],
 "metadata": {
  "kernelspec": {
   "display_name": "Python 3",
   "language": "python",
   "name": "python3"
  },
  "language_info": {
   "codemirror_mode": {
    "name": "ipython",
    "version": 3
   },
   "file_extension": ".py",
   "mimetype": "text/x-python",
   "name": "python",
   "nbconvert_exporter": "python",
   "pygments_lexer": "ipython3",
   "version": "3.7.12"
  },
  "papermill": {
   "default_parameters": {},
   "duration": 24.517568,
   "end_time": "2023-02-04T12:17:52.977533",
   "environment_variables": {},
   "exception": null,
   "input_path": "__notebook__.ipynb",
   "output_path": "__notebook__.ipynb",
   "parameters": {},
   "start_time": "2023-02-04T12:17:28.459965",
   "version": "2.3.4"
  }
 },
 "nbformat": 4,
 "nbformat_minor": 5
}
